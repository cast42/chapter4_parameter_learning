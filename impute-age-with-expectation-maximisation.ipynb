{
 "cells": [
  {
   "cell_type": "code",
   "execution_count": 1,
   "id": "1b8f5a7f",
   "metadata": {
    "_cell_guid": "b1076dfc-b9ad-4769-8c92-a6c4dae69d19",
    "_uuid": "8f2839f25d086af736a60e9eeb907d3b93b6e0e5",
    "execution": {
     "iopub.execute_input": "2022-02-20T13:46:45.246962Z",
     "iopub.status.busy": "2022-02-20T13:46:45.245289Z",
     "iopub.status.idle": "2022-02-20T13:46:46.274056Z",
     "shell.execute_reply": "2022-02-20T13:46:46.274674Z",
     "shell.execute_reply.started": "2022-02-20T13:31:38.580997Z"
    },
    "papermill": {
     "duration": 1.070964,
     "end_time": "2022-02-20T13:46:46.274995",
     "exception": false,
     "start_time": "2022-02-20T13:46:45.204031",
     "status": "completed"
    },
    "tags": []
   },
   "outputs": [
    {
     "name": "stdout",
     "output_type": "stream",
     "text": [
      "/kaggle/input/titanic/train.csv\n",
      "/kaggle/input/titanic/test.csv\n",
      "/kaggle/input/titanic/gender_submission.csv\n"
     ]
    }
   ],
   "source": [
    "# This Python 3 environment comes with many helpful analytics libraries installed\n",
    "# It is defined by the kaggle/python Docker image: https://github.com/kaggle/docker-python\n",
    "# For example, here's several helpful packages to load\n",
    "\n",
    "import numpy as np # linear algebra\n",
    "import pandas as pd # data processing, CSV file I/O (e.g. pd.read_csv)\n",
    "import seaborn as sns \n",
    "import matplotlib.pyplot as plt\n",
    "\n",
    "# Input data files are available in the read-only \"../input/\" directory\n",
    "# For example, running this (by clicking run or pressing Shift+Enter) will list all files under the input directory\n",
    "\n",
    "import os\n",
    "for dirname, _, filenames in os.walk('/kaggle/input'):\n",
    "    for filename in filenames:\n",
    "        print(os.path.join(dirname, filename))\n",
    "\n",
    "# You can write up to 20GB to the current directory (/kaggle/working/) that gets preserved as output when you create a version using \"Save & Run All\" \n",
    "# You can also write temporary files to /kaggle/temp/, but they won't be saved outside of the current session"
   ]
  },
  {
   "cell_type": "code",
   "execution_count": 2,
   "id": "18c5ff49",
   "metadata": {
    "execution": {
     "iopub.execute_input": "2022-02-20T13:46:46.344434Z",
     "iopub.status.busy": "2022-02-20T13:46:46.343838Z",
     "iopub.status.idle": "2022-02-20T13:46:46.370620Z",
     "shell.execute_reply": "2022-02-20T13:46:46.370090Z",
     "shell.execute_reply.started": "2022-02-20T13:31:39.736503Z"
    },
    "papermill": {
     "duration": 0.062148,
     "end_time": "2022-02-20T13:46:46.370777",
     "exception": false,
     "start_time": "2022-02-20T13:46:46.308629",
     "status": "completed"
    },
    "tags": []
   },
   "outputs": [],
   "source": [
    "train = pd.read_csv(\"../input/titanic/train.csv\")\n",
    "test = pd.read_csv(\"../input/titanic/test.csv\")"
   ]
  },
  {
   "cell_type": "code",
   "execution_count": 3,
   "id": "02767236",
   "metadata": {
    "execution": {
     "iopub.execute_input": "2022-02-20T13:46:46.441232Z",
     "iopub.status.busy": "2022-02-20T13:46:46.440660Z",
     "iopub.status.idle": "2022-02-20T13:46:46.464682Z",
     "shell.execute_reply": "2022-02-20T13:46:46.465084Z",
     "shell.execute_reply.started": "2022-02-20T13:31:39.770055Z"
    },
    "papermill": {
     "duration": 0.059636,
     "end_time": "2022-02-20T13:46:46.465273",
     "exception": false,
     "start_time": "2022-02-20T13:46:46.405637",
     "status": "completed"
    },
    "tags": []
   },
   "outputs": [
    {
     "data": {
      "text/plain": [
       "Index(['PassengerId', 'Survived', 'Pclass', 'Name', 'Sex', 'Age', 'SibSp',\n",
       "       'Parch', 'Ticket', 'Fare', 'Cabin', 'Embarked', 'train_test'],\n",
       "      dtype='object')"
      ]
     },
     "execution_count": 3,
     "metadata": {},
     "output_type": "execute_result"
    }
   ],
   "source": [
    "train['train_test'] = 1\n",
    "test['train_test'] = 0\n",
    "test['Survived'] = np.NaN\n",
    "\n",
    "data = pd.concat([train, test])\n",
    "\n",
    "%matplotlib inline\n",
    "\n",
    "data.columns"
   ]
  },
  {
   "cell_type": "code",
   "execution_count": 4,
   "id": "788014fb",
   "metadata": {
    "execution": {
     "iopub.execute_input": "2022-02-20T13:46:46.541526Z",
     "iopub.status.busy": "2022-02-20T13:46:46.540319Z",
     "iopub.status.idle": "2022-02-20T13:46:46.558016Z",
     "shell.execute_reply": "2022-02-20T13:46:46.558658Z",
     "shell.execute_reply.started": "2022-02-20T13:31:39.806210Z"
    },
    "papermill": {
     "duration": 0.06049,
     "end_time": "2022-02-20T13:46:46.558886",
     "exception": false,
     "start_time": "2022-02-20T13:46:46.498396",
     "status": "completed"
    },
    "tags": []
   },
   "outputs": [
    {
     "name": "stdout",
     "output_type": "stream",
     "text": [
      "<class 'pandas.core.frame.DataFrame'>\n",
      "RangeIndex: 891 entries, 0 to 890\n",
      "Data columns (total 13 columns):\n",
      " #   Column       Non-Null Count  Dtype  \n",
      "---  ------       --------------  -----  \n",
      " 0   PassengerId  891 non-null    int64  \n",
      " 1   Survived     891 non-null    int64  \n",
      " 2   Pclass       891 non-null    int64  \n",
      " 3   Name         891 non-null    object \n",
      " 4   Sex          891 non-null    object \n",
      " 5   Age          714 non-null    float64\n",
      " 6   SibSp        891 non-null    int64  \n",
      " 7   Parch        891 non-null    int64  \n",
      " 8   Ticket       891 non-null    object \n",
      " 9   Fare         891 non-null    float64\n",
      " 10  Cabin        204 non-null    object \n",
      " 11  Embarked     889 non-null    object \n",
      " 12  train_test   891 non-null    int64  \n",
      "dtypes: float64(2), int64(6), object(5)\n",
      "memory usage: 90.6+ KB\n"
     ]
    }
   ],
   "source": [
    "train.info()"
   ]
  },
  {
   "cell_type": "code",
   "execution_count": 5,
   "id": "594a25fc",
   "metadata": {
    "execution": {
     "iopub.execute_input": "2022-02-20T13:46:46.646216Z",
     "iopub.status.busy": "2022-02-20T13:46:46.645586Z",
     "iopub.status.idle": "2022-02-20T13:46:46.680746Z",
     "shell.execute_reply": "2022-02-20T13:46:46.680285Z",
     "shell.execute_reply.started": "2022-02-20T13:31:39.830283Z"
    },
    "papermill": {
     "duration": 0.077222,
     "end_time": "2022-02-20T13:46:46.680873",
     "exception": false,
     "start_time": "2022-02-20T13:46:46.603651",
     "status": "completed"
    },
    "tags": []
   },
   "outputs": [
    {
     "data": {
      "text/html": [
       "<div>\n",
       "<style scoped>\n",
       "    .dataframe tbody tr th:only-of-type {\n",
       "        vertical-align: middle;\n",
       "    }\n",
       "\n",
       "    .dataframe tbody tr th {\n",
       "        vertical-align: top;\n",
       "    }\n",
       "\n",
       "    .dataframe thead th {\n",
       "        text-align: right;\n",
       "    }\n",
       "</style>\n",
       "<table border=\"1\" class=\"dataframe\">\n",
       "  <thead>\n",
       "    <tr style=\"text-align: right;\">\n",
       "      <th></th>\n",
       "      <th>PassengerId</th>\n",
       "      <th>Survived</th>\n",
       "      <th>Pclass</th>\n",
       "      <th>Age</th>\n",
       "      <th>SibSp</th>\n",
       "      <th>Parch</th>\n",
       "      <th>Fare</th>\n",
       "      <th>train_test</th>\n",
       "    </tr>\n",
       "  </thead>\n",
       "  <tbody>\n",
       "    <tr>\n",
       "      <th>count</th>\n",
       "      <td>891.000000</td>\n",
       "      <td>891.000000</td>\n",
       "      <td>891.000000</td>\n",
       "      <td>714.000000</td>\n",
       "      <td>891.000000</td>\n",
       "      <td>891.000000</td>\n",
       "      <td>891.000000</td>\n",
       "      <td>891.0</td>\n",
       "    </tr>\n",
       "    <tr>\n",
       "      <th>mean</th>\n",
       "      <td>446.000000</td>\n",
       "      <td>0.383838</td>\n",
       "      <td>2.308642</td>\n",
       "      <td>29.699118</td>\n",
       "      <td>0.523008</td>\n",
       "      <td>0.381594</td>\n",
       "      <td>32.204208</td>\n",
       "      <td>1.0</td>\n",
       "    </tr>\n",
       "    <tr>\n",
       "      <th>std</th>\n",
       "      <td>257.353842</td>\n",
       "      <td>0.486592</td>\n",
       "      <td>0.836071</td>\n",
       "      <td>14.526497</td>\n",
       "      <td>1.102743</td>\n",
       "      <td>0.806057</td>\n",
       "      <td>49.693429</td>\n",
       "      <td>0.0</td>\n",
       "    </tr>\n",
       "    <tr>\n",
       "      <th>min</th>\n",
       "      <td>1.000000</td>\n",
       "      <td>0.000000</td>\n",
       "      <td>1.000000</td>\n",
       "      <td>0.420000</td>\n",
       "      <td>0.000000</td>\n",
       "      <td>0.000000</td>\n",
       "      <td>0.000000</td>\n",
       "      <td>1.0</td>\n",
       "    </tr>\n",
       "    <tr>\n",
       "      <th>25%</th>\n",
       "      <td>223.500000</td>\n",
       "      <td>0.000000</td>\n",
       "      <td>2.000000</td>\n",
       "      <td>20.125000</td>\n",
       "      <td>0.000000</td>\n",
       "      <td>0.000000</td>\n",
       "      <td>7.910400</td>\n",
       "      <td>1.0</td>\n",
       "    </tr>\n",
       "    <tr>\n",
       "      <th>50%</th>\n",
       "      <td>446.000000</td>\n",
       "      <td>0.000000</td>\n",
       "      <td>3.000000</td>\n",
       "      <td>28.000000</td>\n",
       "      <td>0.000000</td>\n",
       "      <td>0.000000</td>\n",
       "      <td>14.454200</td>\n",
       "      <td>1.0</td>\n",
       "    </tr>\n",
       "    <tr>\n",
       "      <th>75%</th>\n",
       "      <td>668.500000</td>\n",
       "      <td>1.000000</td>\n",
       "      <td>3.000000</td>\n",
       "      <td>38.000000</td>\n",
       "      <td>1.000000</td>\n",
       "      <td>0.000000</td>\n",
       "      <td>31.000000</td>\n",
       "      <td>1.0</td>\n",
       "    </tr>\n",
       "    <tr>\n",
       "      <th>max</th>\n",
       "      <td>891.000000</td>\n",
       "      <td>1.000000</td>\n",
       "      <td>3.000000</td>\n",
       "      <td>80.000000</td>\n",
       "      <td>8.000000</td>\n",
       "      <td>6.000000</td>\n",
       "      <td>512.329200</td>\n",
       "      <td>1.0</td>\n",
       "    </tr>\n",
       "  </tbody>\n",
       "</table>\n",
       "</div>"
      ],
      "text/plain": [
       "       PassengerId    Survived      Pclass         Age       SibSp  \\\n",
       "count   891.000000  891.000000  891.000000  714.000000  891.000000   \n",
       "mean    446.000000    0.383838    2.308642   29.699118    0.523008   \n",
       "std     257.353842    0.486592    0.836071   14.526497    1.102743   \n",
       "min       1.000000    0.000000    1.000000    0.420000    0.000000   \n",
       "25%     223.500000    0.000000    2.000000   20.125000    0.000000   \n",
       "50%     446.000000    0.000000    3.000000   28.000000    0.000000   \n",
       "75%     668.500000    1.000000    3.000000   38.000000    1.000000   \n",
       "max     891.000000    1.000000    3.000000   80.000000    8.000000   \n",
       "\n",
       "            Parch        Fare  train_test  \n",
       "count  891.000000  891.000000       891.0  \n",
       "mean     0.381594   32.204208         1.0  \n",
       "std      0.806057   49.693429         0.0  \n",
       "min      0.000000    0.000000         1.0  \n",
       "25%      0.000000    7.910400         1.0  \n",
       "50%      0.000000   14.454200         1.0  \n",
       "75%      0.000000   31.000000         1.0  \n",
       "max      6.000000  512.329200         1.0  "
      ]
     },
     "execution_count": 5,
     "metadata": {},
     "output_type": "execute_result"
    }
   ],
   "source": [
    "train.describe()"
   ]
  },
  {
   "cell_type": "code",
   "execution_count": 6,
   "id": "b2209f9f",
   "metadata": {
    "execution": {
     "iopub.execute_input": "2022-02-20T13:46:46.750928Z",
     "iopub.status.busy": "2022-02-20T13:46:46.750369Z",
     "iopub.status.idle": "2022-02-20T13:46:46.769799Z",
     "shell.execute_reply": "2022-02-20T13:46:46.770331Z",
     "shell.execute_reply.started": "2022-02-20T13:31:39.872566Z"
    },
    "papermill": {
     "duration": 0.05595,
     "end_time": "2022-02-20T13:46:46.770491",
     "exception": false,
     "start_time": "2022-02-20T13:46:46.714541",
     "status": "completed"
    },
    "tags": []
   },
   "outputs": [
    {
     "data": {
      "text/plain": [
       "Index(['PassengerId', 'Survived', 'Pclass', 'Age', 'SibSp', 'Parch', 'Fare',\n",
       "       'train_test'],\n",
       "      dtype='object')"
      ]
     },
     "execution_count": 6,
     "metadata": {},
     "output_type": "execute_result"
    }
   ],
   "source": [
    "train.describe().columns"
   ]
  },
  {
   "cell_type": "code",
   "execution_count": 7,
   "id": "66108617",
   "metadata": {
    "execution": {
     "iopub.execute_input": "2022-02-20T13:46:46.841016Z",
     "iopub.status.busy": "2022-02-20T13:46:46.840469Z",
     "iopub.status.idle": "2022-02-20T13:46:46.845455Z",
     "shell.execute_reply": "2022-02-20T13:46:46.845970Z",
     "shell.execute_reply.started": "2022-02-20T13:31:39.900110Z"
    },
    "papermill": {
     "duration": 0.041847,
     "end_time": "2022-02-20T13:46:46.846117",
     "exception": false,
     "start_time": "2022-02-20T13:46:46.804270",
     "status": "completed"
    },
    "tags": []
   },
   "outputs": [],
   "source": [
    "# numeric values\n",
    "df_num = train[['Age', 'SibSp', 'Parch', 'Fare']]\n",
    "\n",
    "# categorical values\n",
    "df_cat = train[['Survived','Pclass','Sex','Ticket','Cabin','Embarked']]"
   ]
  },
  {
   "cell_type": "markdown",
   "id": "be4295ce",
   "metadata": {
    "papermill": {
     "duration": 0.034572,
     "end_time": "2022-02-20T13:46:46.914737",
     "exception": false,
     "start_time": "2022-02-20T13:46:46.880165",
     "status": "completed"
    },
    "tags": []
   },
   "source": [
    "# Feature Engineering\n",
    "\n",
    "1) Cabin - Simplify cabins (evaluated if cabin letter (cabin_adv) or the purchase of tickets across multiple cabins (cabin_multiple) impacted survival)\n",
    "\n",
    "2) Tickets - Do different ticket types impact survival rates?\n",
    "\n",
    "3) Does a person's title relate to survival rates?"
   ]
  },
  {
   "cell_type": "markdown",
   "id": "9a3467ab",
   "metadata": {
    "papermill": {
     "duration": 0.034051,
     "end_time": "2022-02-20T13:46:46.984422",
     "exception": false,
     "start_time": "2022-02-20T13:46:46.950371",
     "status": "completed"
    },
    "tags": []
   },
   "source": [
    "**Simplify Cabins**"
   ]
  },
  {
   "cell_type": "code",
   "execution_count": 8,
   "id": "160ab932",
   "metadata": {
    "execution": {
     "iopub.execute_input": "2022-02-20T13:46:47.060718Z",
     "iopub.status.busy": "2022-02-20T13:46:47.055998Z",
     "iopub.status.idle": "2022-02-20T13:46:47.065085Z",
     "shell.execute_reply": "2022-02-20T13:46:47.065614Z",
     "shell.execute_reply.started": "2022-02-20T13:31:39.909290Z"
    },
    "papermill": {
     "duration": 0.047312,
     "end_time": "2022-02-20T13:46:47.065782",
     "exception": false,
     "start_time": "2022-02-20T13:46:47.018470",
     "status": "completed"
    },
    "tags": []
   },
   "outputs": [
    {
     "data": {
      "text/plain": [
       "0    687\n",
       "1    180\n",
       "2     16\n",
       "3      6\n",
       "4      2\n",
       "Name: cabin_multiple, dtype: int64"
      ]
     },
     "execution_count": 8,
     "metadata": {},
     "output_type": "execute_result"
    }
   ],
   "source": [
    "df_cat.Cabin\n",
    "train['cabin_multiple'] = train.Cabin.apply(lambda x: 0 if pd.isna(x) else len(x.split(' ')))\n",
    "train['cabin_multiple'].value_counts()"
   ]
  },
  {
   "cell_type": "code",
   "execution_count": 9,
   "id": "b8356775",
   "metadata": {
    "execution": {
     "iopub.execute_input": "2022-02-20T13:46:47.136881Z",
     "iopub.status.busy": "2022-02-20T13:46:47.136349Z",
     "iopub.status.idle": "2022-02-20T13:46:47.159877Z",
     "shell.execute_reply": "2022-02-20T13:46:47.160348Z",
     "shell.execute_reply.started": "2022-02-20T13:31:39.929398Z"
    },
    "papermill": {
     "duration": 0.060336,
     "end_time": "2022-02-20T13:46:47.160504",
     "exception": false,
     "start_time": "2022-02-20T13:46:47.100168",
     "status": "completed"
    },
    "tags": []
   },
   "outputs": [
    {
     "data": {
      "text/html": [
       "<div>\n",
       "<style scoped>\n",
       "    .dataframe tbody tr th:only-of-type {\n",
       "        vertical-align: middle;\n",
       "    }\n",
       "\n",
       "    .dataframe tbody tr th {\n",
       "        vertical-align: top;\n",
       "    }\n",
       "\n",
       "    .dataframe thead th {\n",
       "        text-align: right;\n",
       "    }\n",
       "</style>\n",
       "<table border=\"1\" class=\"dataframe\">\n",
       "  <thead>\n",
       "    <tr style=\"text-align: right;\">\n",
       "      <th>cabin_multiple</th>\n",
       "      <th>0</th>\n",
       "      <th>1</th>\n",
       "      <th>2</th>\n",
       "      <th>3</th>\n",
       "      <th>4</th>\n",
       "    </tr>\n",
       "    <tr>\n",
       "      <th>Survived</th>\n",
       "      <th></th>\n",
       "      <th></th>\n",
       "      <th></th>\n",
       "      <th></th>\n",
       "      <th></th>\n",
       "    </tr>\n",
       "  </thead>\n",
       "  <tbody>\n",
       "    <tr>\n",
       "      <th>0</th>\n",
       "      <td>481.0</td>\n",
       "      <td>58.0</td>\n",
       "      <td>7.0</td>\n",
       "      <td>3.0</td>\n",
       "      <td>NaN</td>\n",
       "    </tr>\n",
       "    <tr>\n",
       "      <th>1</th>\n",
       "      <td>206.0</td>\n",
       "      <td>122.0</td>\n",
       "      <td>9.0</td>\n",
       "      <td>3.0</td>\n",
       "      <td>2.0</td>\n",
       "    </tr>\n",
       "  </tbody>\n",
       "</table>\n",
       "</div>"
      ],
      "text/plain": [
       "cabin_multiple      0      1    2    3    4\n",
       "Survived                                   \n",
       "0               481.0   58.0  7.0  3.0  NaN\n",
       "1               206.0  122.0  9.0  3.0  2.0"
      ]
     },
     "execution_count": 9,
     "metadata": {},
     "output_type": "execute_result"
    }
   ],
   "source": [
    "pd.pivot_table(train, index = 'Survived', columns = 'cabin_multiple', values = 'Ticket' ,aggfunc ='count')"
   ]
  },
  {
   "cell_type": "code",
   "execution_count": 10,
   "id": "69976ba1",
   "metadata": {
    "execution": {
     "iopub.execute_input": "2022-02-20T13:46:47.231916Z",
     "iopub.status.busy": "2022-02-20T13:46:47.231374Z",
     "iopub.status.idle": "2022-02-20T13:46:47.236184Z",
     "shell.execute_reply": "2022-02-20T13:46:47.236620Z",
     "shell.execute_reply.started": "2022-02-20T13:31:39.966533Z"
    },
    "papermill": {
     "duration": 0.041898,
     "end_time": "2022-02-20T13:46:47.236781",
     "exception": false,
     "start_time": "2022-02-20T13:46:47.194883",
     "status": "completed"
    },
    "tags": []
   },
   "outputs": [],
   "source": [
    "train['cabin_adv'] = train.Cabin.apply(lambda x: str(x)[0])"
   ]
  },
  {
   "cell_type": "markdown",
   "id": "fbf122a3",
   "metadata": {
    "papermill": {
     "duration": 0.033941,
     "end_time": "2022-02-20T13:46:47.305284",
     "exception": false,
     "start_time": "2022-02-20T13:46:47.271343",
     "status": "completed"
    },
    "tags": []
   },
   "source": [
    "**Ticket Value**"
   ]
  },
  {
   "cell_type": "code",
   "execution_count": 11,
   "id": "dcbd7a85",
   "metadata": {
    "execution": {
     "iopub.execute_input": "2022-02-20T13:46:47.376869Z",
     "iopub.status.busy": "2022-02-20T13:46:47.376315Z",
     "iopub.status.idle": "2022-02-20T13:46:47.386443Z",
     "shell.execute_reply": "2022-02-20T13:46:47.386966Z",
     "shell.execute_reply.started": "2022-02-20T13:31:39.975822Z"
    },
    "papermill": {
     "duration": 0.047494,
     "end_time": "2022-02-20T13:46:47.387122",
     "exception": false,
     "start_time": "2022-02-20T13:46:47.339628",
     "status": "completed"
    },
    "tags": []
   },
   "outputs": [
    {
     "data": {
      "text/plain": [
       "1    661\n",
       "0    230\n",
       "Name: numeric_ticket, dtype: int64"
      ]
     },
     "execution_count": 11,
     "metadata": {},
     "output_type": "execute_result"
    }
   ],
   "source": [
    "#understand ticket values better \n",
    "#numeric vs non numeric \n",
    "train['numeric_ticket'] = train.Ticket.apply(lambda x: 1 if x.isnumeric() else 0)\n",
    "train['ticket_letters'] = train.Ticket.apply(lambda x: ''.join(x.split(' ')[:-1]).replace('.','').replace('/','').lower() if len(x.split(' ')[:-1]) >0 else 0)\n",
    "\n",
    "train['numeric_ticket'].value_counts()"
   ]
  },
  {
   "cell_type": "code",
   "execution_count": 12,
   "id": "1ca3ee90",
   "metadata": {
    "execution": {
     "iopub.execute_input": "2022-02-20T13:46:47.464221Z",
     "iopub.status.busy": "2022-02-20T13:46:47.463660Z",
     "iopub.status.idle": "2022-02-20T13:46:47.466603Z",
     "shell.execute_reply": "2022-02-20T13:46:47.467272Z",
     "shell.execute_reply.started": "2022-02-20T13:31:39.995417Z"
    },
    "papermill": {
     "duration": 0.045691,
     "end_time": "2022-02-20T13:46:47.467492",
     "exception": false,
     "start_time": "2022-02-20T13:46:47.421801",
     "status": "completed"
    },
    "tags": []
   },
   "outputs": [
    {
     "data": {
      "text/plain": [
       "0            665\n",
       "pc            60\n",
       "ca            41\n",
       "a5            21\n",
       "stono2        18\n",
       "sotonoq       15\n",
       "scparis       11\n",
       "wc            10\n",
       "a4             7\n",
       "soc            6\n",
       "fcc            5\n",
       "c              5\n",
       "sopp           3\n",
       "pp             3\n",
       "wep            3\n",
       "ppp            2\n",
       "scah           2\n",
       "sotono2        2\n",
       "swpp           2\n",
       "fc             1\n",
       "scahbasle      1\n",
       "as             1\n",
       "sp             1\n",
       "sc             1\n",
       "scow           1\n",
       "fa             1\n",
       "sop            1\n",
       "sca4           1\n",
       "casoton        1\n",
       "Name: ticket_letters, dtype: int64"
      ]
     },
     "execution_count": 12,
     "metadata": {},
     "output_type": "execute_result"
    }
   ],
   "source": [
    "#lets us view all rows in dataframe through scrolling. This is for convenience \n",
    "pd.set_option(\"max_rows\", None)\n",
    "train['ticket_letters'].value_counts()"
   ]
  },
  {
   "cell_type": "code",
   "execution_count": 13,
   "id": "443e95df",
   "metadata": {
    "execution": {
     "iopub.execute_input": "2022-02-20T13:46:47.543421Z",
     "iopub.status.busy": "2022-02-20T13:46:47.542860Z",
     "iopub.status.idle": "2022-02-20T13:46:47.559119Z",
     "shell.execute_reply": "2022-02-20T13:46:47.559672Z",
     "shell.execute_reply.started": "2022-02-20T13:31:40.017689Z"
    },
    "papermill": {
     "duration": 0.054242,
     "end_time": "2022-02-20T13:46:47.559831",
     "exception": false,
     "start_time": "2022-02-20T13:46:47.505589",
     "status": "completed"
    },
    "tags": []
   },
   "outputs": [
    {
     "data": {
      "text/html": [
       "<div>\n",
       "<style scoped>\n",
       "    .dataframe tbody tr th:only-of-type {\n",
       "        vertical-align: middle;\n",
       "    }\n",
       "\n",
       "    .dataframe tbody tr th {\n",
       "        vertical-align: top;\n",
       "    }\n",
       "\n",
       "    .dataframe thead th {\n",
       "        text-align: right;\n",
       "    }\n",
       "</style>\n",
       "<table border=\"1\" class=\"dataframe\">\n",
       "  <thead>\n",
       "    <tr style=\"text-align: right;\">\n",
       "      <th>numeric_ticket</th>\n",
       "      <th>0</th>\n",
       "      <th>1</th>\n",
       "    </tr>\n",
       "    <tr>\n",
       "      <th>Survived</th>\n",
       "      <th></th>\n",
       "      <th></th>\n",
       "    </tr>\n",
       "  </thead>\n",
       "  <tbody>\n",
       "    <tr>\n",
       "      <th>0</th>\n",
       "      <td>142</td>\n",
       "      <td>407</td>\n",
       "    </tr>\n",
       "    <tr>\n",
       "      <th>1</th>\n",
       "      <td>88</td>\n",
       "      <td>254</td>\n",
       "    </tr>\n",
       "  </tbody>\n",
       "</table>\n",
       "</div>"
      ],
      "text/plain": [
       "numeric_ticket    0    1\n",
       "Survived                \n",
       "0               142  407\n",
       "1                88  254"
      ]
     },
     "execution_count": 13,
     "metadata": {},
     "output_type": "execute_result"
    }
   ],
   "source": [
    "#difference in numeric vs non-numeric tickets in survival rate \n",
    "pd.pivot_table(train,index='Survived',columns='numeric_ticket', values = 'Ticket', aggfunc='count')"
   ]
  },
  {
   "cell_type": "code",
   "execution_count": 14,
   "id": "8a6d9556",
   "metadata": {
    "execution": {
     "iopub.execute_input": "2022-02-20T13:46:47.635373Z",
     "iopub.status.busy": "2022-02-20T13:46:47.634783Z",
     "iopub.status.idle": "2022-02-20T13:46:47.663791Z",
     "shell.execute_reply": "2022-02-20T13:46:47.664368Z",
     "shell.execute_reply.started": "2022-02-20T13:31:40.047901Z"
    },
    "papermill": {
     "duration": 0.068709,
     "end_time": "2022-02-20T13:46:47.664535",
     "exception": false,
     "start_time": "2022-02-20T13:46:47.595826",
     "status": "completed"
    },
    "tags": []
   },
   "outputs": [
    {
     "data": {
      "text/html": [
       "<div>\n",
       "<style scoped>\n",
       "    .dataframe tbody tr th:only-of-type {\n",
       "        vertical-align: middle;\n",
       "    }\n",
       "\n",
       "    .dataframe tbody tr th {\n",
       "        vertical-align: top;\n",
       "    }\n",
       "\n",
       "    .dataframe thead th {\n",
       "        text-align: right;\n",
       "    }\n",
       "</style>\n",
       "<table border=\"1\" class=\"dataframe\">\n",
       "  <thead>\n",
       "    <tr style=\"text-align: right;\">\n",
       "      <th>ticket_letters</th>\n",
       "      <th>0</th>\n",
       "      <th>a4</th>\n",
       "      <th>a5</th>\n",
       "      <th>as</th>\n",
       "      <th>c</th>\n",
       "      <th>ca</th>\n",
       "      <th>casoton</th>\n",
       "      <th>fa</th>\n",
       "      <th>fc</th>\n",
       "      <th>fcc</th>\n",
       "      <th>...</th>\n",
       "      <th>soc</th>\n",
       "      <th>sop</th>\n",
       "      <th>sopp</th>\n",
       "      <th>sotono2</th>\n",
       "      <th>sotonoq</th>\n",
       "      <th>sp</th>\n",
       "      <th>stono2</th>\n",
       "      <th>swpp</th>\n",
       "      <th>wc</th>\n",
       "      <th>wep</th>\n",
       "    </tr>\n",
       "    <tr>\n",
       "      <th>Survived</th>\n",
       "      <th></th>\n",
       "      <th></th>\n",
       "      <th></th>\n",
       "      <th></th>\n",
       "      <th></th>\n",
       "      <th></th>\n",
       "      <th></th>\n",
       "      <th></th>\n",
       "      <th></th>\n",
       "      <th></th>\n",
       "      <th></th>\n",
       "      <th></th>\n",
       "      <th></th>\n",
       "      <th></th>\n",
       "      <th></th>\n",
       "      <th></th>\n",
       "      <th></th>\n",
       "      <th></th>\n",
       "      <th></th>\n",
       "      <th></th>\n",
       "      <th></th>\n",
       "    </tr>\n",
       "  </thead>\n",
       "  <tbody>\n",
       "    <tr>\n",
       "      <th>0</th>\n",
       "      <td>410.0</td>\n",
       "      <td>7.0</td>\n",
       "      <td>19.0</td>\n",
       "      <td>1.0</td>\n",
       "      <td>3.0</td>\n",
       "      <td>27.0</td>\n",
       "      <td>1.0</td>\n",
       "      <td>1.0</td>\n",
       "      <td>1.0</td>\n",
       "      <td>1.0</td>\n",
       "      <td>...</td>\n",
       "      <td>5.0</td>\n",
       "      <td>1.0</td>\n",
       "      <td>3.0</td>\n",
       "      <td>2.0</td>\n",
       "      <td>13.0</td>\n",
       "      <td>1.0</td>\n",
       "      <td>10.0</td>\n",
       "      <td>NaN</td>\n",
       "      <td>9.0</td>\n",
       "      <td>2.0</td>\n",
       "    </tr>\n",
       "    <tr>\n",
       "      <th>1</th>\n",
       "      <td>255.0</td>\n",
       "      <td>NaN</td>\n",
       "      <td>2.0</td>\n",
       "      <td>NaN</td>\n",
       "      <td>2.0</td>\n",
       "      <td>14.0</td>\n",
       "      <td>NaN</td>\n",
       "      <td>NaN</td>\n",
       "      <td>NaN</td>\n",
       "      <td>4.0</td>\n",
       "      <td>...</td>\n",
       "      <td>1.0</td>\n",
       "      <td>NaN</td>\n",
       "      <td>NaN</td>\n",
       "      <td>NaN</td>\n",
       "      <td>2.0</td>\n",
       "      <td>NaN</td>\n",
       "      <td>8.0</td>\n",
       "      <td>2.0</td>\n",
       "      <td>1.0</td>\n",
       "      <td>1.0</td>\n",
       "    </tr>\n",
       "  </tbody>\n",
       "</table>\n",
       "<p>2 rows × 29 columns</p>\n",
       "</div>"
      ],
      "text/plain": [
       "ticket_letters      0   a4    a5   as    c    ca  casoton   fa   fc  fcc  ...  \\\n",
       "Survived                                                                  ...   \n",
       "0               410.0  7.0  19.0  1.0  3.0  27.0      1.0  1.0  1.0  1.0  ...   \n",
       "1               255.0  NaN   2.0  NaN  2.0  14.0      NaN  NaN  NaN  4.0  ...   \n",
       "\n",
       "ticket_letters  soc  sop  sopp  sotono2  sotonoq   sp  stono2  swpp   wc  wep  \n",
       "Survived                                                                       \n",
       "0               5.0  1.0   3.0      2.0     13.0  1.0    10.0   NaN  9.0  2.0  \n",
       "1               1.0  NaN   NaN      NaN      2.0  NaN     8.0   2.0  1.0  1.0  \n",
       "\n",
       "[2 rows x 29 columns]"
      ]
     },
     "execution_count": 14,
     "metadata": {},
     "output_type": "execute_result"
    }
   ],
   "source": [
    "#survival rate across different tyicket types \n",
    "pd.pivot_table(train,index='Survived',columns='ticket_letters', values = 'Ticket', aggfunc='count')"
   ]
  },
  {
   "cell_type": "code",
   "execution_count": 15,
   "id": "d50079da",
   "metadata": {
    "execution": {
     "iopub.execute_input": "2022-02-20T13:46:47.739389Z",
     "iopub.status.busy": "2022-02-20T13:46:47.738810Z",
     "iopub.status.idle": "2022-02-20T13:46:47.747176Z",
     "shell.execute_reply": "2022-02-20T13:46:47.747703Z",
     "shell.execute_reply.started": "2022-02-20T13:31:40.090033Z"
    },
    "papermill": {
     "duration": 0.047434,
     "end_time": "2022-02-20T13:46:47.747869",
     "exception": false,
     "start_time": "2022-02-20T13:46:47.700435",
     "status": "completed"
    },
    "tags": []
   },
   "outputs": [
    {
     "data": {
      "text/plain": [
       "Mr              517\n",
       "Miss            182\n",
       "Mrs             125\n",
       "Master           40\n",
       "Dr                7\n",
       "Rev               6\n",
       "Mlle              2\n",
       "Major             2\n",
       "Col               2\n",
       "the Countess      1\n",
       "Capt              1\n",
       "Ms                1\n",
       "Sir               1\n",
       "Lady              1\n",
       "Mme               1\n",
       "Don               1\n",
       "Jonkheer          1\n",
       "Name: name_title, dtype: int64"
      ]
     },
     "execution_count": 15,
     "metadata": {},
     "output_type": "execute_result"
    }
   ],
   "source": [
    "#feature engineering on person's title \n",
    "train.Name.head(50)\n",
    "train['name_title'] = train.Name.apply(lambda x: x.split(',')[1].split('.')[0].strip())\n",
    "#mr., ms., master. etc\n",
    "\n",
    "train['name_title'].value_counts()"
   ]
  },
  {
   "cell_type": "markdown",
   "id": "4b509d57",
   "metadata": {
    "papermill": {
     "duration": 0.035724,
     "end_time": "2022-02-20T13:46:47.819936",
     "exception": false,
     "start_time": "2022-02-20T13:46:47.784212",
     "status": "completed"
    },
    "tags": []
   },
   "source": [
    "# Data Processing"
   ]
  },
  {
   "cell_type": "code",
   "execution_count": 16,
   "id": "d5a70137",
   "metadata": {
    "execution": {
     "iopub.execute_input": "2022-02-20T13:46:47.896370Z",
     "iopub.status.busy": "2022-02-20T13:46:47.895799Z",
     "iopub.status.idle": "2022-02-20T13:46:48.134559Z",
     "shell.execute_reply": "2022-02-20T13:46:48.135034Z",
     "shell.execute_reply.started": "2022-02-20T13:31:40.105397Z"
    },
    "papermill": {
     "duration": 0.278219,
     "end_time": "2022-02-20T13:46:48.135202",
     "exception": false,
     "start_time": "2022-02-20T13:46:47.856983",
     "status": "completed"
    },
    "tags": []
   },
   "outputs": [
    {
     "data": {
      "text/plain": [
       "(889,)"
      ]
     },
     "execution_count": 16,
     "metadata": {},
     "output_type": "execute_result"
    },
    {
     "data": {
      "image/png": "[encoded data removed]",
      "text/plain": [
       "<Figure size 432x288 with 1 Axes>"
      ]
     },
     "metadata": {
      "needs_background": "light"
     },
     "output_type": "display_data"
    }
   ],
   "source": [
    "#create all categorical variables that we did above for both training and test sets \n",
    "data['cabin_multiple'] = data.Cabin.apply(lambda x: 0 if pd.isna(x) else len(x.split(' ')))\n",
    "data['cabin_adv'] = data.Cabin.apply(lambda x: str(x)[0])\n",
    "data['numeric_ticket'] = data.Ticket.apply(lambda x: 1 if x.isnumeric() else 0)\n",
    "data['ticket_letters'] = data.Ticket.apply(lambda x: ''.join(x.split(' ')[:-1]).replace('.','').replace('/','').lower() if len(x.split(' ')[:-1]) >0 else 0)\n",
    "data['name_title'] = data.Name.apply(lambda x: x.split(',')[1].split('.')[0].strip())\n",
    "\n",
    "#drop null 'embarked' rows. Only 2 instances of this in training and 0 in test \n",
    "data.dropna(subset=['Embarked'],inplace = True)\n",
    "\n",
    "#impute nulls for continuous data \n",
    "original_age = data.Age # Store the orignal age to try EM\n",
    "# data.Age = data.Age.fillna(train.Age.median())\n",
    "original_fare = data.Fare\n",
    "# data.Fare = data.Fare.fillna(train.Fare.median())\n",
    "\n",
    "#tried log norm of sibsp (not used)\n",
    "data['norm_sibsp'] = np.log(data.SibSp+1)\n",
    "data['norm_sibsp'].hist()\n",
    "\n",
    "# log norm of fare (used)\n",
    "data['norm_fare'] = np.log(data.Fare+1)\n",
    "data['norm_fare'].hist()\n",
    "\n",
    "# converted fare to category for pd.get_dummies()\n",
    "data.Pclass = data.Pclass.astype(str)\n",
    "\n",
    "#created dummy variables from categories (also can use OneHotEncoder)\n",
    "all_dummies = pd.get_dummies(data[['Pclass','Sex','Age','SibSp','Parch','norm_fare','Embarked','cabin_adv','cabin_multiple','numeric_ticket','name_title','train_test']])\n",
    "\n",
    "#Split to train test again\n",
    "X_train = all_dummies[all_dummies.train_test == 1].drop(['train_test'], axis =1)\n",
    "X_test = all_dummies[all_dummies.train_test == 0].drop(['train_test'], axis =1)\n",
    "\n",
    "y_train = data[data.train_test==1].Survived\n",
    "y_train.shape"
   ]
  },
  {
   "cell_type": "markdown",
   "id": "60c76f4a",
   "metadata": {
    "papermill": {
     "duration": 0.036457,
     "end_time": "2022-02-20T13:46:48.208956",
     "exception": false,
     "start_time": "2022-02-20T13:46:48.172499",
     "status": "completed"
    },
    "tags": []
   },
   "source": [
    "# Modeling"
   ]
  },
  {
   "cell_type": "code",
   "execution_count": 17,
   "id": "56bc4811",
   "metadata": {
    "execution": {
     "iopub.execute_input": "2022-02-20T13:46:48.287889Z",
     "iopub.status.busy": "2022-02-20T13:46:48.287305Z",
     "iopub.status.idle": "2022-02-20T13:46:48.428331Z",
     "shell.execute_reply": "2022-02-20T13:46:48.428781Z",
     "shell.execute_reply.started": "2022-02-20T13:31:40.419519Z"
    },
    "papermill": {
     "duration": 0.181243,
     "end_time": "2022-02-20T13:46:48.428960",
     "exception": false,
     "start_time": "2022-02-20T13:46:48.247717",
     "status": "completed"
    },
    "tags": []
   },
   "outputs": [],
   "source": [
    "# Scale data \n",
    "from sklearn.preprocessing import StandardScaler\n",
    "scale = StandardScaler()\n",
    "all_dummies_scaled = all_dummies.copy()\n",
    "all_dummies_scaled[['Age','SibSp','Parch','norm_fare']]= scale.fit_transform(all_dummies_scaled[['Age','SibSp','Parch','norm_fare']])\n",
    "all_dummies_scaled\n",
    "\n",
    "X_train_scaled = all_dummies_scaled[all_dummies_scaled.train_test == 1].drop(['train_test'], axis =1)\n",
    "X_test_scaled = all_dummies_scaled[all_dummies_scaled.train_test == 0].drop(['train_test'], axis =1)\n",
    "\n",
    "y_train = data[data.train_test==1].Survived"
   ]
  },
  {
   "cell_type": "code",
   "execution_count": 18,
   "id": "8d877cd6",
   "metadata": {
    "execution": {
     "iopub.execute_input": "2022-02-20T13:46:48.506416Z",
     "iopub.status.busy": "2022-02-20T13:46:48.505736Z",
     "iopub.status.idle": "2022-02-20T13:46:48.777058Z",
     "shell.execute_reply": "2022-02-20T13:46:48.776566Z",
     "shell.execute_reply.started": "2022-02-20T13:31:40.596934Z"
    },
    "papermill": {
     "duration": 0.311197,
     "end_time": "2022-02-20T13:46:48.777208",
     "exception": false,
     "start_time": "2022-02-20T13:46:48.466011",
     "status": "completed"
    },
    "tags": []
   },
   "outputs": [],
   "source": [
    "from sklearn.model_selection import cross_val_score\n",
    "from sklearn.experimental    import enable_hist_gradient_boosting\n",
    "from sklearn.ensemble import HistGradientBoostingClassifier"
   ]
  },
  {
   "cell_type": "markdown",
   "id": "ef462afe",
   "metadata": {
    "papermill": {
     "duration": 0.036942,
     "end_time": "2022-02-20T13:46:48.851750",
     "exception": false,
     "start_time": "2022-02-20T13:46:48.814808",
     "status": "completed"
    },
    "tags": []
   },
   "source": [
    "**Historgram Gradient Boosting without imputation**"
   ]
  },
  {
   "cell_type": "code",
   "execution_count": 19,
   "id": "23e4c4e7",
   "metadata": {
    "execution": {
     "iopub.execute_input": "2022-02-20T13:46:48.932252Z",
     "iopub.status.busy": "2022-02-20T13:46:48.931561Z",
     "iopub.status.idle": "2022-02-20T13:46:51.589007Z",
     "shell.execute_reply": "2022-02-20T13:46:51.589631Z",
     "shell.execute_reply.started": "2022-02-20T13:31:40.926936Z"
    },
    "papermill": {
     "duration": 2.701119,
     "end_time": "2022-02-20T13:46:51.589834",
     "exception": false,
     "start_time": "2022-02-20T13:46:48.888715",
     "status": "completed"
    },
    "tags": []
   },
   "outputs": [
    {
     "name": "stdout",
     "output_type": "stream",
     "text": [
      "[0.80337079 0.8258427  0.88202247 0.80898876 0.84180791]\n",
      "0.8324065257411288 +/-0.03\n"
     ]
    }
   ],
   "source": [
    "hgb = HistGradientBoostingClassifier()\n",
    "cv = cross_val_score(hgb,X_train_scaled,y_train,cv=5)\n",
    "print(cv)\n",
    "print(f'{cv.mean()} +/-{cv.std():.2f}')"
   ]
  },
  {
   "cell_type": "markdown",
   "id": "df1c8647",
   "metadata": {
    "papermill": {
     "duration": 0.047359,
     "end_time": "2022-02-20T13:46:51.684928",
     "exception": false,
     "start_time": "2022-02-20T13:46:51.637569",
     "status": "completed"
    },
    "tags": []
   },
   "source": [
    "**Historgram Gradient Boosting with median imputation**"
   ]
  },
  {
   "cell_type": "code",
   "execution_count": 20,
   "id": "7c8e108c",
   "metadata": {
    "execution": {
     "iopub.execute_input": "2022-02-20T13:46:51.789381Z",
     "iopub.status.busy": "2022-02-20T13:46:51.788688Z",
     "iopub.status.idle": "2022-02-20T13:46:51.812941Z",
     "shell.execute_reply": "2022-02-20T13:46:51.813575Z",
     "shell.execute_reply.started": "2022-02-20T13:31:45.182065Z"
    },
    "papermill": {
     "duration": 0.080744,
     "end_time": "2022-02-20T13:46:51.813758",
     "exception": false,
     "start_time": "2022-02-20T13:46:51.733014",
     "status": "completed"
    },
    "tags": []
   },
   "outputs": [],
   "source": [
    "# Impute the data with the median\n",
    "data.Age = data.Age.fillna(train.Age.median())\n",
    "data.Fare = data.Fare.fillna(train.Fare.median())\n",
    "all_dummies = pd.get_dummies(data[['Pclass','Sex','Age','SibSp','Parch','norm_fare','Embarked','cabin_adv','cabin_multiple','numeric_ticket','name_title','train_test']])\n",
    "\n",
    "all_dummies_scaled = all_dummies.copy()\n",
    "all_dummies_scaled[['Age','SibSp','Parch','norm_fare']]= scale.fit_transform(all_dummies_scaled[['Age','SibSp','Parch','norm_fare']])\n",
    "all_dummies_scaled\n",
    "\n",
    "X_train_scaled = all_dummies_scaled[all_dummies_scaled.train_test == 1].drop(['train_test'], axis =1)\n",
    "X_test_scaled = all_dummies_scaled[all_dummies_scaled.train_test == 0].drop(['train_test'], axis =1)\n",
    "\n",
    "y_train = data[data.train_test==1].Survived"
   ]
  },
  {
   "cell_type": "code",
   "execution_count": 21,
   "id": "5347573a",
   "metadata": {
    "execution": {
     "iopub.execute_input": "2022-02-20T13:46:51.918434Z",
     "iopub.status.busy": "2022-02-20T13:46:51.917780Z",
     "iopub.status.idle": "2022-02-20T13:46:54.284307Z",
     "shell.execute_reply": "2022-02-20T13:46:54.284890Z",
     "shell.execute_reply.started": "2022-02-20T13:31:45.227200Z"
    },
    "papermill": {
     "duration": 2.423496,
     "end_time": "2022-02-20T13:46:54.285076",
     "exception": false,
     "start_time": "2022-02-20T13:46:51.861580",
     "status": "completed"
    },
    "tags": []
   },
   "outputs": [
    {
     "name": "stdout",
     "output_type": "stream",
     "text": [
      "[0.80898876 0.8258427  0.87640449 0.8258427  0.84180791]\n",
      "0.8357773122579826 +/-0.02\n"
     ]
    }
   ],
   "source": [
    "hgb = HistGradientBoostingClassifier()\n",
    "cv = cross_val_score(hgb, X_train_scaled, y_train,cv=5)\n",
    "print(cv)\n",
    "print(f'{cv.mean()} +/-{cv.std():.2f}')"
   ]
  },
  {
   "cell_type": "markdown",
   "id": "5f21c359",
   "metadata": {
    "papermill": {
     "duration": 0.047518,
     "end_time": "2022-02-20T13:46:54.381087",
     "exception": false,
     "start_time": "2022-02-20T13:46:54.333569",
     "status": "completed"
    },
    "tags": []
   },
   "source": [
    "**Historgram Gradient Boosting with E.M.**"
   ]
  },
  {
   "cell_type": "code",
   "execution_count": 22,
   "id": "eb6e197d",
   "metadata": {
    "execution": {
     "iopub.execute_input": "2022-02-20T13:46:54.484927Z",
     "iopub.status.busy": "2022-02-20T13:46:54.484187Z",
     "iopub.status.idle": "2022-02-20T13:46:54.496853Z",
     "shell.execute_reply": "2022-02-20T13:46:54.497759Z",
     "shell.execute_reply.started": "2022-02-20T13:31:48.496246Z"
    },
    "papermill": {
     "duration": 0.068497,
     "end_time": "2022-02-20T13:46:54.497943",
     "exception": false,
     "start_time": "2022-02-20T13:46:54.429446",
     "status": "completed"
    },
    "tags": []
   },
   "outputs": [
    {
     "data": {
      "text/plain": [
       "PassengerId       0.028788\n",
       "Survived         -0.082446\n",
       "Age               1.000000\n",
       "SibSp            -0.242910\n",
       "Parch            -0.149992\n",
       "Fare              0.175994\n",
       "train_test       -0.020413\n",
       "cabin_multiple    0.230832\n",
       "numeric_ticket   -0.027412\n",
       "norm_sibsp       -0.197750\n",
       "norm_fare         0.191787\n",
       "dtype: float64"
      ]
     },
     "execution_count": 22,
     "metadata": {},
     "output_type": "execute_result"
    }
   ],
   "source": [
    "data.select_dtypes(include=np.number).corrwith(original_age)"
   ]
  },
  {
   "cell_type": "code",
   "execution_count": 23,
   "id": "eae0e91e",
   "metadata": {
    "execution": {
     "iopub.execute_input": "2022-02-20T13:46:54.626199Z",
     "iopub.status.busy": "2022-02-20T13:46:54.625410Z",
     "iopub.status.idle": "2022-02-20T13:46:54.628489Z",
     "shell.execute_reply": "2022-02-20T13:46:54.626781Z",
     "shell.execute_reply.started": "2022-02-20T13:31:48.519432Z"
    },
    "papermill": {
     "duration": 0.063768,
     "end_time": "2022-02-20T13:46:54.628645",
     "exception": false,
     "start_time": "2022-02-20T13:46:54.564877",
     "status": "completed"
    },
    "tags": []
   },
   "outputs": [
    {
     "data": {
      "text/plain": [
       "(1307,)"
      ]
     },
     "execution_count": 23,
     "metadata": {},
     "output_type": "execute_result"
    }
   ],
   "source": [
    "original_age.shape"
   ]
  },
  {
   "cell_type": "code",
   "execution_count": 24,
   "id": "bdda2af5",
   "metadata": {
    "execution": {
     "iopub.execute_input": "2022-02-20T13:46:54.731196Z",
     "iopub.status.busy": "2022-02-20T13:46:54.730299Z",
     "iopub.status.idle": "2022-02-20T13:46:54.733839Z",
     "shell.execute_reply": "2022-02-20T13:46:54.734492Z",
     "shell.execute_reply.started": "2022-02-20T13:31:48.540205Z"
    },
    "papermill": {
     "duration": 0.054494,
     "end_time": "2022-02-20T13:46:54.734704",
     "exception": false,
     "start_time": "2022-02-20T13:46:54.680210",
     "status": "completed"
    },
    "tags": []
   },
   "outputs": [
    {
     "data": {
      "text/plain": [
       "(1307, 11)"
      ]
     },
     "execution_count": 24,
     "metadata": {},
     "output_type": "execute_result"
    }
   ],
   "source": [
    "data.select_dtypes(include=np.number).shape"
   ]
  },
  {
   "cell_type": "code",
   "execution_count": 25,
   "id": "0fa36df1",
   "metadata": {
    "execution": {
     "iopub.execute_input": "2022-02-20T13:46:54.821633Z",
     "iopub.status.busy": "2022-02-20T13:46:54.820913Z",
     "iopub.status.idle": "2022-02-20T13:46:54.825100Z",
     "shell.execute_reply": "2022-02-20T13:46:54.825623Z",
     "shell.execute_reply.started": "2022-02-20T13:31:48.549664Z"
    },
    "papermill": {
     "duration": 0.04728,
     "end_time": "2022-02-20T13:46:54.825849",
     "exception": false,
     "start_time": "2022-02-20T13:46:54.778569",
     "status": "completed"
    },
    "tags": []
   },
   "outputs": [
    {
     "data": {
      "text/plain": [
       "(1307, 20)"
      ]
     },
     "execution_count": 25,
     "metadata": {},
     "output_type": "execute_result"
    }
   ],
   "source": [
    "data.shape"
   ]
  },
  {
   "cell_type": "code",
   "execution_count": 26,
   "id": "244cca79",
   "metadata": {
    "execution": {
     "iopub.execute_input": "2022-02-20T13:46:54.917091Z",
     "iopub.status.busy": "2022-02-20T13:46:54.916494Z",
     "iopub.status.idle": "2022-02-20T13:46:55.103521Z",
     "shell.execute_reply": "2022-02-20T13:46:55.102831Z",
     "shell.execute_reply.started": "2022-02-20T13:31:48.573234Z"
    },
    "papermill": {
     "duration": 0.237692,
     "end_time": "2022-02-20T13:46:55.103920",
     "exception": false,
     "start_time": "2022-02-20T13:46:54.866228",
     "status": "completed"
    },
    "tags": []
   },
   "outputs": [
    {
     "data": {
      "image/png": "[encoded data removed]",
      "text/plain": [
       "<Figure size 432x288 with 1 Axes>"
      ]
     },
     "metadata": {
      "needs_background": "light"
     },
     "output_type": "display_data"
    }
   ],
   "source": [
    "plt.scatter(original_age, data['SibSp'])\n",
    "plt.xlabel('Age')\n",
    "plt.ylabel('SibSp');"
   ]
  },
  {
   "cell_type": "markdown",
   "id": "edd86fbb",
   "metadata": {
    "papermill": {
     "duration": 0.038607,
     "end_time": "2022-02-20T13:46:55.181764",
     "exception": false,
     "start_time": "2022-02-20T13:46:55.143157",
     "status": "completed"
    },
    "tags": []
   },
   "source": [
    "The feature SibSp represents whether a person is alone or with his family members.\n",
    "\n",
    "Sibling = brother, sister, stepbrother, stepsister\n",
    "\n",
    "Spouse = husband, wife"
   ]
  },
  {
   "cell_type": "code",
   "execution_count": 27,
   "id": "b8b883f7",
   "metadata": {
    "execution": {
     "iopub.execute_input": "2022-02-20T13:46:55.262462Z",
     "iopub.status.busy": "2022-02-20T13:46:55.261890Z",
     "iopub.status.idle": "2022-02-20T13:46:55.339989Z",
     "shell.execute_reply": "2022-02-20T13:46:55.339418Z",
     "shell.execute_reply.started": "2022-02-20T13:31:48.889205Z"
    },
    "papermill": {
     "duration": 0.11954,
     "end_time": "2022-02-20T13:46:55.340135",
     "exception": false,
     "start_time": "2022-02-20T13:46:55.220595",
     "status": "completed"
    },
    "tags": []
   },
   "outputs": [
    {
     "data": {
      "text/html": [
       "<style type=\"text/css\">\n",
       "#T_d071c_row0_col0, #T_d071c_row0_col1 {\n",
       "  background-color: #008066;\n",
       "  color: #f1f1f1;\n",
       "}\n",
       "#T_d071c_row1_col0 {\n",
       "  background-color: #c4e266;\n",
       "  color: #000000;\n",
       "}\n",
       "#T_d071c_row1_col1 {\n",
       "  background-color: #76bb66;\n",
       "  color: #f1f1f1;\n",
       "}\n",
       "#T_d071c_row2_col0, #T_d071c_row4_col0 {\n",
       "  background-color: #f9fc66;\n",
       "  color: #000000;\n",
       "}\n",
       "#T_d071c_row2_col1 {\n",
       "  background-color: #eff766;\n",
       "  color: #000000;\n",
       "}\n",
       "#T_d071c_row3_col0, #T_d071c_row3_col1 {\n",
       "  background-color: #fbfd66;\n",
       "  color: #000000;\n",
       "}\n",
       "#T_d071c_row4_col1 {\n",
       "  background-color: #fcfe66;\n",
       "  color: #000000;\n",
       "}\n",
       "#T_d071c_row5_col0, #T_d071c_row5_col1, #T_d071c_row6_col1 {\n",
       "  background-color: #ffff66;\n",
       "  color: #000000;\n",
       "}\n",
       "#T_d071c_row6_col0 {\n",
       "  background-color: #fefe66;\n",
       "  color: #000000;\n",
       "}\n",
       "</style>\n",
       "<table id=\"T_d071c_\">\n",
       "  <thead>\n",
       "    <tr>\n",
       "      <th class=\"index_name level0\" >Survived</th>\n",
       "      <th class=\"col_heading level0 col0\" >0.0</th>\n",
       "      <th class=\"col_heading level0 col1\" >1.0</th>\n",
       "    </tr>\n",
       "    <tr>\n",
       "      <th class=\"index_name level0\" >SibSp</th>\n",
       "      <th class=\"blank col0\" >&nbsp;</th>\n",
       "      <th class=\"blank col1\" >&nbsp;</th>\n",
       "    </tr>\n",
       "  </thead>\n",
       "  <tbody>\n",
       "    <tr>\n",
       "      <th id=\"T_d071c_level0_row0\" class=\"row_heading level0 row0\" >0</th>\n",
       "      <td id=\"T_d071c_row0_col0\" class=\"data row0 col0\" >398</td>\n",
       "      <td id=\"T_d071c_row0_col1\" class=\"data row0 col1\" >208</td>\n",
       "    </tr>\n",
       "    <tr>\n",
       "      <th id=\"T_d071c_level0_row1\" class=\"row_heading level0 row1\" >1</th>\n",
       "      <td id=\"T_d071c_row1_col0\" class=\"data row1 col0\" >97</td>\n",
       "      <td id=\"T_d071c_row1_col1\" class=\"data row1 col1\" >112</td>\n",
       "    </tr>\n",
       "    <tr>\n",
       "      <th id=\"T_d071c_level0_row2\" class=\"row_heading level0 row2\" >2</th>\n",
       "      <td id=\"T_d071c_row2_col0\" class=\"data row2 col0\" >15</td>\n",
       "      <td id=\"T_d071c_row2_col1\" class=\"data row2 col1\" >13</td>\n",
       "    </tr>\n",
       "    <tr>\n",
       "      <th id=\"T_d071c_level0_row3\" class=\"row_heading level0 row3\" >3</th>\n",
       "      <td id=\"T_d071c_row3_col0\" class=\"data row3 col0\" >12</td>\n",
       "      <td id=\"T_d071c_row3_col1\" class=\"data row3 col1\" >4</td>\n",
       "    </tr>\n",
       "    <tr>\n",
       "      <th id=\"T_d071c_level0_row4\" class=\"row_heading level0 row4\" >4</th>\n",
       "      <td id=\"T_d071c_row4_col0\" class=\"data row4 col0\" >15</td>\n",
       "      <td id=\"T_d071c_row4_col1\" class=\"data row4 col1\" >3</td>\n",
       "    </tr>\n",
       "    <tr>\n",
       "      <th id=\"T_d071c_level0_row5\" class=\"row_heading level0 row5\" >5</th>\n",
       "      <td id=\"T_d071c_row5_col0\" class=\"data row5 col0\" >5</td>\n",
       "      <td id=\"T_d071c_row5_col1\" class=\"data row5 col1\" >0</td>\n",
       "    </tr>\n",
       "    <tr>\n",
       "      <th id=\"T_d071c_level0_row6\" class=\"row_heading level0 row6\" >8</th>\n",
       "      <td id=\"T_d071c_row6_col0\" class=\"data row6 col0\" >7</td>\n",
       "      <td id=\"T_d071c_row6_col1\" class=\"data row6 col1\" >0</td>\n",
       "    </tr>\n",
       "  </tbody>\n",
       "</table>\n"
      ],
      "text/plain": [
       "<pandas.io.formats.style.Styler at 0x7f53a1d07450>"
      ]
     },
     "execution_count": 27,
     "metadata": {},
     "output_type": "execute_result"
    }
   ],
   "source": [
    "pd.crosstab([data.SibSp],data.Survived).style.background_gradient(cmap='summer_r')"
   ]
  },
  {
   "cell_type": "code",
   "execution_count": 28,
   "id": "aa0c2255",
   "metadata": {
    "execution": {
     "iopub.execute_input": "2022-02-20T13:46:55.424391Z",
     "iopub.status.busy": "2022-02-20T13:46:55.423468Z",
     "iopub.status.idle": "2022-02-20T13:46:55.766939Z",
     "shell.execute_reply": "2022-02-20T13:46:55.766377Z",
     "shell.execute_reply.started": "2022-02-20T13:31:48.984765Z"
    },
    "papermill": {
     "duration": 0.386719,
     "end_time": "2022-02-20T13:46:55.767068",
     "exception": false,
     "start_time": "2022-02-20T13:46:55.380349",
     "status": "completed"
    },
    "tags": []
   },
   "outputs": [
    {
     "name": "stderr",
     "output_type": "stream",
     "text": [
      "/opt/conda/lib/python3.7/site-packages/seaborn/_decorators.py:43: FutureWarning: Pass the following variables as keyword args: x, y. From version 0.12, the only valid positional argument will be `data`, and passing other arguments without an explicit keyword will result in an error or misinterpretation.\n",
      "  FutureWarning\n"
     ]
    },
    {
     "data": {
      "text/plain": [
       "<AxesSubplot:xlabel='SibSp', ylabel='Age'>"
      ]
     },
     "execution_count": 28,
     "metadata": {},
     "output_type": "execute_result"
    },
    {
     "data": {
      "image/png": "[encoded data removed]",
      "text/plain": [
       "<Figure size 432x288 with 1 Axes>"
      ]
     },
     "metadata": {
      "needs_background": "light"
     },
     "output_type": "display_data"
    }
   ],
   "source": [
    "sns.violinplot(\"SibSp\",\"Age\", hue=\"Survived\", data=data,split=True)"
   ]
  },
  {
   "cell_type": "code",
   "execution_count": 29,
   "id": "519462ea",
   "metadata": {
    "execution": {
     "iopub.execute_input": "2022-02-20T13:46:55.855549Z",
     "iopub.status.busy": "2022-02-20T13:46:55.854663Z",
     "iopub.status.idle": "2022-02-20T13:46:56.017714Z",
     "shell.execute_reply": "2022-02-20T13:46:56.017138Z",
     "shell.execute_reply.started": "2022-02-20T13:31:49.352118Z"
    },
    "papermill": {
     "duration": 0.209434,
     "end_time": "2022-02-20T13:46:56.017844",
     "exception": false,
     "start_time": "2022-02-20T13:46:55.808410",
     "status": "completed"
    },
    "tags": []
   },
   "outputs": [
    {
     "data": {
      "image/png": "[encoded data removed]",
      "text/plain": [
       "<Figure size 432x288 with 1 Axes>"
      ]
     },
     "metadata": {
      "needs_background": "light"
     },
     "output_type": "display_data"
    }
   ],
   "source": [
    "plt.hist(original_age);"
   ]
  },
  {
   "cell_type": "code",
   "execution_count": 30,
   "id": "c7bd5b4b",
   "metadata": {
    "execution": {
     "iopub.execute_input": "2022-02-20T13:46:56.108279Z",
     "iopub.status.busy": "2022-02-20T13:46:56.107056Z",
     "iopub.status.idle": "2022-02-20T13:46:56.112197Z",
     "shell.execute_reply": "2022-02-20T13:46:56.112804Z",
     "shell.execute_reply.started": "2022-02-20T13:31:49.527447Z"
    },
    "papermill": {
     "duration": 0.05325,
     "end_time": "2022-02-20T13:46:56.112964",
     "exception": false,
     "start_time": "2022-02-20T13:46:56.059714",
     "status": "completed"
    },
    "tags": []
   },
   "outputs": [
    {
     "data": {
      "text/plain": [
       "263"
      ]
     },
     "execution_count": 30,
     "metadata": {},
     "output_type": "execute_result"
    }
   ],
   "source": [
    "# How many ages must be imputed\n",
    "np.isnan(original_age).sum()"
   ]
  },
  {
   "cell_type": "code",
   "execution_count": 31,
   "id": "06f921c9",
   "metadata": {
    "execution": {
     "iopub.execute_input": "2022-02-20T13:46:56.211664Z",
     "iopub.status.busy": "2022-02-20T13:46:56.206059Z",
     "iopub.status.idle": "2022-02-20T13:46:56.415161Z",
     "shell.execute_reply": "2022-02-20T13:46:56.414453Z",
     "shell.execute_reply.started": "2022-02-20T13:31:49.538174Z"
    },
    "papermill": {
     "duration": 0.256614,
     "end_time": "2022-02-20T13:46:56.415373",
     "exception": false,
     "start_time": "2022-02-20T13:46:56.158759",
     "status": "completed"
    },
    "tags": []
   },
   "outputs": [
    {
     "name": "stdout",
     "output_type": "stream",
     "text": [
      "Imputed 5 with 31.185576679145637\n",
      "Imputed 17 with 29.54067770692749\n",
      "Imputed 19 with 25.986568272297333\n",
      "Imputed 26 with 37.13902760696867\n",
      "Imputed 28 with 45.41507234405356\n",
      "Imputed 29 with -6.4466986411395375\n",
      "Imputed 31 with 35.722340607739525\n",
      "Imputed 32 with 27.230839937699926\n",
      "Imputed 36 with 40.11363666081169\n",
      "Imputed 42 with 37.23236338072275\n",
      "Imputed 45 with 36.776438161063986\n",
      "Imputed 46 with 8.751429620207816\n",
      "Imputed 47 with 27.318007871784573\n",
      "Imputed 48 with 17.931632267153567\n",
      "Imputed 55 with 49.31453226823678\n",
      "Imputed 63 with 20.15110191621899\n",
      "Imputed 64 with 28.7432880505018\n",
      "Imputed 75 with 19.301410125770655\n",
      "Imputed 76 with 38.51970096632473\n",
      "Imputed 81 with 32.09640680786296\n",
      "Imputed 86 with 35.10542516131237\n",
      "Imputed 94 with 31.31516583604845\n",
      "Imputed 100 with 29.27294767685339\n",
      "Imputed 106 with 29.951871453626847\n",
      "Imputed 108 with 45.74042151426399\n",
      "Imputed 120 with 44.488426453597874\n",
      "Imputed 125 with 48.24628585683552\n",
      "Imputed 127 with 36.759210924487064\n",
      "Imputed 139 with 36.25629867537692\n",
      "Imputed 153 with 51.479238725684965\n",
      "Imputed 157 with 40.28801765218301\n",
      "Imputed 158 with 25.00361836555367\n",
      "Imputed 165 with 40.86250343093299\n",
      "Imputed 167 with 49.09849252851575\n",
      "Imputed 175 with 35.233347940724336\n",
      "Imputed 179 with 21.512890429784115\n",
      "Imputed 180 with 30.722293627283126\n",
      "Imputed 184 with 36.80818335119918\n",
      "Imputed 185 with 32.54382162706916\n",
      "Imputed 195 with 20.697260798905848\n",
      "Imputed 197 with 63.08551964649433\n",
      "Imputed 200 with 40.814776084176415\n",
      "Imputed 213 with 7.460047446650094\n",
      "Imputed 222 with 33.53499038594881\n",
      "Imputed 228 with 2.1037177162090153\n",
      "Imputed 234 with 19.596114470092882\n",
      "Imputed 239 with 50.364628456548274\n",
      "Imputed 240 with 39.795299796620405\n",
      "Imputed 249 with 53.5307653164938\n",
      "Imputed 255 with 13.377390005237974\n",
      "Imputed 259 with 24.010002177110973\n",
      "Imputed 263 with 9.707808221553108\n",
      "Imputed 269 with 22.10233838510505\n",
      "Imputed 273 with -8.073964536305635\n",
      "Imputed 276 with 32.3027706181264\n",
      "Imputed 283 with 39.898490174208405\n",
      "Imputed 294 with 49.044157299608194\n",
      "Imputed 297 with 38.31053283448699\n",
      "Imputed 299 with 18.745611527054812\n",
      "Imputed 300 with 17.763431671757694\n",
      "Imputed 302 with 6.8847121907341595\n",
      "Imputed 303 with 51.02813183837793\n",
      "Imputed 305 with 29.315799963461956\n",
      "Imputed 323 with 28.368048795280693\n",
      "Imputed 329 with 19.42848396068026\n",
      "Imputed 333 with 30.552515536475187\n",
      "Imputed 334 with 23.13379267186612\n",
      "Imputed 346 with 4.403011727380633\n",
      "Imputed 350 with 30.775460609405535\n",
      "Imputed 353 with 35.580838709934305\n",
      "Imputed 357 with 33.042692103386656\n",
      "Imputed 358 with 35.53772791352729\n",
      "Imputed 363 with 29.284066153111144\n",
      "Imputed 366 with 12.842795797920626\n",
      "Imputed 367 with 48.725609564487726\n",
      "Imputed 374 with 11.209677962122974\n",
      "Imputed 383 with 45.66230157438768\n",
      "Imputed 387 with 36.294087181441945\n",
      "Imputed 408 with 20.793812118896337\n",
      "Imputed 409 with 28.927555249410446\n",
      "Imputed 410 with -5.521698104892476\n",
      "Imputed 412 with 19.454633016216597\n",
      "Imputed 414 with 17.35533306993215\n",
      "Imputed 419 with 10.2154613096249\n",
      "Imputed 424 with 31.902399663002214\n",
      "Imputed 427 with 22.404598730518025\n",
      "Imputed 430 with 17.886947832450087\n",
      "Imputed 443 with 17.212162216785508\n",
      "Imputed 450 with 24.523734247957368\n",
      "Imputed 453 with 22.56954558929055\n",
      "Imputed 456 with 42.416943040219756\n",
      "Imputed 458 with 21.75526006288419\n",
      "Imputed 463 with 42.30035748370281\n",
      "Imputed 465 with 26.921660008686185\n",
      "Imputed 467 with 34.95320376120721\n",
      "Imputed 469 with 16.862375206946776\n",
      "Imputed 474 with 36.99371581774818\n",
      "Imputed 480 with 59.89280316260272\n",
      "Imputed 484 with 35.538647207698034\n",
      "Imputed 489 with 25.962302068957317\n",
      "Imputed 494 with 18.601737723915612\n",
      "Imputed 496 with 25.8611805548002\n",
      "Imputed 501 with 21.92774108872316\n",
      "Imputed 506 with 27.541826164117072\n",
      "Imputed 510 with 46.324595876274934\n",
      "Imputed 516 with 37.195618678932306\n",
      "Imputed 521 with 45.64027607607459\n",
      "Imputed 523 with 33.80983519079524\n",
      "Imputed 526 with 37.52670552611626\n",
      "Imputed 530 with 56.18146636837311\n",
      "Imputed 532 with 27.546386747210622\n",
      "Imputed 537 with 43.48023041233871\n",
      "Imputed 546 with 44.56641780669992\n",
      "Imputed 551 with 52.20693169112491\n",
      "Imputed 556 with 21.728392189121664\n",
      "Imputed 559 with 42.4243179531712\n",
      "Imputed 562 with 28.859041879193505\n",
      "Imputed 563 with 38.125406987975715\n",
      "Imputed 567 with 29.052213779781688\n",
      "Imputed 572 with 31.55443355806936\n",
      "Imputed 577 with 24.360377210552773\n",
      "Imputed 583 with 46.64038026761124\n",
      "Imputed 588 with 30.76773898723382\n",
      "Imputed 592 with 22.076758649706598\n",
      "Imputed 595 with 31.2710985907474\n",
      "Imputed 597 with 39.66446803103559\n",
      "Imputed 600 with 22.828380479713253\n",
      "Imputed 601 with 42.3228946188402\n",
      "Imputed 610 with 32.62680091851528\n",
      "Imputed 611 with 29.50850300593149\n",
      "Imputed 612 with 25.53711666384625\n",
      "Imputed 628 with 43.77080409096048\n",
      "Imputed 632 with 32.322893487764965\n",
      "Imputed 638 with 28.8850603387734\n",
      "Imputed 642 with 36.990912268165374\n",
      "Imputed 647 with 13.898050705681378\n",
      "Imputed 649 with 15.71239257757103\n",
      "Imputed 652 with 46.35858105143429\n",
      "Imputed 655 with 30.64367777548833\n",
      "Imputed 666 with 30.25644459218945\n",
      "Imputed 668 with 30.268116494188835\n",
      "Imputed 673 with 27.30420334774068\n",
      "Imputed 679 with 30.32984604329018\n",
      "Imputed 691 with 43.62919320301471\n",
      "Imputed 696 with 37.323023872770364\n",
      "Imputed 708 with 28.735600485074926\n",
      "Imputed 710 with 32.2456173645377\n",
      "Imputed 717 with 35.931977371677064\n",
      "Imputed 726 with 34.160681308139\n",
      "Imputed 731 with 25.94729844027202\n",
      "Imputed 737 with 27.19796513596023\n",
      "Imputed 738 with 38.55176023406473\n",
      "Imputed 739 with 21.260881736859155\n",
      "Imputed 759 with 31.46463746422436\n",
      "Imputed 765 with 36.373878153236326\n",
      "Imputed 767 with 36.28583850142571\n",
      "Imputed 772 with 6.631619211126825\n",
      "Imputed 775 with 21.172814954674774\n",
      "Imputed 777 with 21.08740351116714\n",
      "Imputed 782 with 49.21403019103604\n",
      "Imputed 789 with 21.631753140202463\n",
      "Imputed 791 with 30.078168713207752\n",
      "Imputed 792 with 32.82563218574709\n",
      "Imputed 814 with 7.879222358691614\n",
      "Imputed 824 with 28.233208104337077\n",
      "Imputed 825 with 17.27308929506054\n",
      "Imputed 827 with 30.5877874380834\n",
      "Imputed 830 with 19.87796246739434\n",
      "Imputed 835 with 18.18716881704735\n",
      "Imputed 837 with 18.2276288978571\n",
      "Imputed 844 with 33.65481540711268\n",
      "Imputed 847 with 48.63247676822621\n",
      "Imputed 857 with 38.27049310325391\n",
      "Imputed 861 with 43.10712262718965\n",
      "Imputed 866 with 13.893637720751158\n",
      "Imputed 876 with 29.902314232376924\n",
      "Imputed 886 with 30.72307617438488\n",
      "Imputed 899 with 23.18057150213178\n",
      "Imputed 911 with 28.25604665315136\n",
      "Imputed 918 with 21.382343021355954\n",
      "Imputed 922 with 21.841777964016988\n",
      "Imputed 925 with 19.167919972638273\n",
      "Imputed 928 with 34.94766117225597\n",
      "Imputed 930 with 25.944356861021554\n",
      "Imputed 936 with 35.254183496086874\n",
      "Imputed 943 with 37.733493170551775\n",
      "Imputed 947 with 30.949145397567634\n",
      "Imputed 954 with 61.827918629341404\n",
      "Imputed 965 with 33.35167110920498\n",
      "Imputed 972 with 30.61600164674271\n",
      "Imputed 973 with 41.39649463726187\n",
      "Imputed 974 with 24.08666621885864\n",
      "Imputed 977 with 27.496250842373453\n",
      "Imputed 980 with 24.891885308349366\n",
      "Imputed 982 with 29.17701539472045\n",
      "Imputed 991 with 25.022843322342318\n",
      "Imputed 996 with 27.557986664367167\n",
      "Imputed 997 with 31.679895303452646\n",
      "Imputed 1000 with 44.127381176379004\n",
      "Imputed 1005 with 19.995801314462003\n",
      "Imputed 1010 with 22.218434768264064\n",
      "Imputed 1013 with 15.264945797707052\n",
      "Imputed 1016 with 38.57609030680183\n",
      "Imputed 1021 with 39.25750259974439\n",
      "Imputed 1022 with 53.31189968600452\n",
      "Imputed 1035 with 27.40383896737762\n",
      "Imputed 1037 with 32.08841548117585\n",
      "Imputed 1040 with 45.55790460639619\n",
      "Imputed 1049 with 21.82012211334314\n",
      "Imputed 1052 with 49.607397460049455\n",
      "Imputed 1057 with 35.7062456105187\n",
      "Imputed 1059 with 29.828041029702007\n",
      "Imputed 1062 with 22.22404101499464\n",
      "Imputed 1072 with 32.786515139825354\n",
      "Imputed 1077 with 38.52376442507449\n",
      "Imputed 1080 with 2.141181501830264\n",
      "Imputed 1088 with 10.973704263384779\n",
      "Imputed 1089 with 32.06610821265423\n",
      "Imputed 1094 with 34.90048651831431\n",
      "Imputed 1100 with 16.932674950083985\n",
      "Imputed 1105 with 50.08096335338098\n",
      "Imputed 1108 with 33.65522332290883\n",
      "Imputed 1114 with 22.75129104997764\n",
      "Imputed 1116 with 6.541763407343414\n",
      "Imputed 1122 with 28.951451854553966\n",
      "Imputed 1132 with 38.649030437897736\n",
      "Imputed 1133 with 38.914234405619716\n",
      "Imputed 1138 with 50.847096032254925\n",
      "Imputed 1144 with 34.512663475506145\n",
      "Imputed 1145 with 20.924622805183937\n",
      "Imputed 1154 with 40.14164681936553\n",
      "Imputed 1155 with 59.34085347326789\n",
      "Imputed 1156 with 18.125652391461692\n",
      "Imputed 1157 with 32.52287933276385\n",
      "Imputed 1160 with 40.737867823931154\n",
      "Imputed 1162 with 15.809840609501181\n",
      "Imputed 1163 with 40.593301103862856\n",
      "Imputed 1171 with 34.87065821981201\n",
      "Imputed 1175 with 58.47826898733115\n",
      "Imputed 1177 with 46.44466884582826\n",
      "Imputed 1178 with 37.21997711241613\n",
      "Imputed 1179 with 32.576199203168\n",
      "Imputed 1181 with 43.55716007206057\n",
      "Imputed 1186 with 4.6715331652317715\n",
      "Imputed 1190 with 27.86929044561924\n",
      "Imputed 1193 with 19.23826766011274\n",
      "Imputed 1201 with 21.538373519566978\n",
      "Imputed 1221 with 37.92782895432039\n",
      "Imputed 1228 with -9.478260309887872\n",
      "Imputed 1231 with 37.1363949279434\n",
      "Imputed 1233 with 20.690374436275032\n",
      "Imputed 1246 with 16.012596408765425\n",
      "Imputed 1247 with 52.46731045322202\n",
      "Imputed 1254 with 40.36556014910526\n",
      "Imputed 1255 with 29.25902529085381\n",
      "Imputed 1269 with 47.18135379947313\n",
      "Imputed 1271 with 28.608258813592617\n",
      "Imputed 1273 with 32.13929969621595\n",
      "Imputed 1297 with 45.44827263787106\n",
      "Imputed 1299 with 38.171511945966465\n",
      "Imputed 1302 with 27.348460725420683\n",
      "Imputed 1305 with 42.39238690281054\n",
      "Imputed 1306 with 26.463905742395834\n"
     ]
    }
   ],
   "source": [
    "# E.M. based on https://github.com/eltonlaw/impyute/blob/master/impyute/imputation/cs/em.py\n",
    "eps=0.1\n",
    "original_age.reset_index(drop=True, inplace=True)\n",
    "nan_row = original_age[np.isnan(original_age)].index\n",
    "em_age = original_age.copy().values\n",
    "for x_i in nan_row:\n",
    "    previous = 1\n",
    "    for i in range(5):\n",
    "        # Expectation\n",
    "        mu = em_age[~np.isnan(em_age)].mean()\n",
    "        std = em_age[~np.isnan(em_age)].std()\n",
    "        # Maximization\n",
    "        em_age[x_i] = np.clip(np.random.normal(loc=mu, scale=std), em_age.min(), em_age.max())\n",
    "        # Break out of loop if likelihood doesn't change at least 10%\n",
    "        delta = np.abs(em_age[x_i]-previous)/previous\n",
    "        if i and (delta < eps):\n",
    "            break\n",
    "        previous = em_age[x_i]\n",
    "    print (f'Imputed {x_i} with {em_age[x_i]}')"
   ]
  },
  {
   "cell_type": "code",
   "execution_count": 32,
   "id": "652e68ec",
   "metadata": {
    "execution": {
     "iopub.execute_input": "2022-02-20T13:46:56.511358Z",
     "iopub.status.busy": "2022-02-20T13:46:56.510665Z",
     "iopub.status.idle": "2022-02-20T13:46:56.517130Z",
     "shell.execute_reply": "2022-02-20T13:46:56.517743Z",
     "shell.execute_reply.started": "2022-02-20T13:31:49.763536Z"
    },
    "papermill": {
     "duration": 0.057536,
     "end_time": "2022-02-20T13:46:56.517919",
     "exception": false,
     "start_time": "2022-02-20T13:46:56.460383",
     "status": "completed"
    },
    "tags": []
   },
   "outputs": [
    {
     "data": {
      "text/plain": [
       "count    1307.000000\n",
       "mean       30.020978\n",
       "std        14.035532\n",
       "min        -9.478260\n",
       "25%        21.000000\n",
       "50%        29.000000\n",
       "75%        38.563925\n",
       "max        80.000000\n",
       "dtype: float64"
      ]
     },
     "execution_count": 32,
     "metadata": {},
     "output_type": "execute_result"
    }
   ],
   "source": [
    "pd.Series(em_age).describe()"
   ]
  },
  {
   "cell_type": "code",
   "execution_count": 33,
   "id": "cb8e90e8",
   "metadata": {
    "execution": {
     "iopub.execute_input": "2022-02-20T13:46:56.612961Z",
     "iopub.status.busy": "2022-02-20T13:46:56.611804Z",
     "iopub.status.idle": "2022-02-20T13:46:56.619887Z",
     "shell.execute_reply": "2022-02-20T13:46:56.620341Z",
     "shell.execute_reply.started": "2022-02-20T13:31:49.776739Z"
    },
    "papermill": {
     "duration": 0.057152,
     "end_time": "2022-02-20T13:46:56.620509",
     "exception": false,
     "start_time": "2022-02-20T13:46:56.563357",
     "status": "completed"
    },
    "tags": []
   },
   "outputs": [
    {
     "data": {
      "text/plain": [
       "count    1044.000000\n",
       "mean       29.842596\n",
       "std        14.390739\n",
       "min         0.170000\n",
       "25%        21.000000\n",
       "50%        28.000000\n",
       "75%        39.000000\n",
       "max        80.000000\n",
       "Name: Age, dtype: float64"
      ]
     },
     "execution_count": 33,
     "metadata": {},
     "output_type": "execute_result"
    }
   ],
   "source": [
    "original_age.dropna().describe()"
   ]
  },
  {
   "cell_type": "code",
   "execution_count": 34,
   "id": "33f06663",
   "metadata": {
    "execution": {
     "iopub.execute_input": "2022-02-20T13:46:56.713275Z",
     "iopub.status.busy": "2022-02-20T13:46:56.711491Z",
     "iopub.status.idle": "2022-02-20T13:46:56.717792Z",
     "shell.execute_reply": "2022-02-20T13:46:56.718204Z",
     "shell.execute_reply.started": "2022-02-20T13:31:49.796084Z"
    },
    "papermill": {
     "duration": 0.053723,
     "end_time": "2022-02-20T13:46:56.718444",
     "exception": false,
     "start_time": "2022-02-20T13:46:56.664721",
     "status": "completed"
    },
    "tags": []
   },
   "outputs": [
    {
     "data": {
      "text/plain": [
       "263"
      ]
     },
     "execution_count": 34,
     "metadata": {},
     "output_type": "execute_result"
    }
   ],
   "source": [
    "np.isnan(original_age).sum()"
   ]
  },
  {
   "cell_type": "markdown",
   "id": "175896b4",
   "metadata": {
    "papermill": {
     "duration": 0.045695,
     "end_time": "2022-02-20T13:46:56.809798",
     "exception": false,
     "start_time": "2022-02-20T13:46:56.764103",
     "status": "completed"
    },
    "tags": []
   },
   "source": [
    "**Histrogram Gradient Boosting after E.M.**"
   ]
  },
  {
   "cell_type": "code",
   "execution_count": 35,
   "id": "a3856268",
   "metadata": {
    "execution": {
     "iopub.execute_input": "2022-02-20T13:46:56.908584Z",
     "iopub.status.busy": "2022-02-20T13:46:56.907987Z",
     "iopub.status.idle": "2022-02-20T13:46:56.935655Z",
     "shell.execute_reply": "2022-02-20T13:46:56.936116Z",
     "shell.execute_reply.started": "2022-02-20T13:31:49.808196Z"
    },
    "papermill": {
     "duration": 0.07818,
     "end_time": "2022-02-20T13:46:56.936347",
     "exception": false,
     "start_time": "2022-02-20T13:46:56.858167",
     "status": "completed"
    },
    "tags": []
   },
   "outputs": [],
   "source": [
    "# Impute the data with the median\n",
    "data.Age = em_age\n",
    "all_dummies = pd.get_dummies(data[['Pclass','Sex','Age','SibSp','Parch','norm_fare','Embarked','cabin_adv','cabin_multiple','numeric_ticket','name_title','train_test']])\n",
    "\n",
    "all_dummies_scaled = all_dummies.copy()\n",
    "all_dummies_scaled[['Age','SibSp','Parch','norm_fare']]= scale.fit_transform(all_dummies_scaled[['Age','SibSp','Parch','norm_fare']])\n",
    "all_dummies_scaled\n",
    "\n",
    "X_train_scaled = all_dummies_scaled[all_dummies_scaled.train_test == 1].drop(['train_test'], axis =1)\n",
    "X_test_scaled = all_dummies_scaled[all_dummies_scaled.train_test == 0].drop(['train_test'], axis =1)\n",
    "\n",
    "y_train = data[data.train_test==1].Survived"
   ]
  },
  {
   "cell_type": "code",
   "execution_count": 36,
   "id": "3e1b5f3f",
   "metadata": {
    "execution": {
     "iopub.execute_input": "2022-02-20T13:46:57.041773Z",
     "iopub.status.busy": "2022-02-20T13:46:57.041059Z",
     "iopub.status.idle": "2022-02-20T13:47:00.260618Z",
     "shell.execute_reply": "2022-02-20T13:47:00.261893Z",
     "shell.execute_reply.started": "2022-02-20T13:31:49.842928Z"
    },
    "papermill": {
     "duration": 3.269308,
     "end_time": "2022-02-20T13:47:00.262095",
     "exception": false,
     "start_time": "2022-02-20T13:46:56.992787",
     "status": "completed"
    },
    "tags": []
   },
   "outputs": [
    {
     "name": "stdout",
     "output_type": "stream",
     "text": [
      "[0.78089888 0.80337079 0.85955056 0.80337079 0.87570621]\n",
      "0.8245794451850441 +/-0.04\n"
     ]
    }
   ],
   "source": [
    "hgb = HistGradientBoostingClassifier()\n",
    "cv = cross_val_score(hgb, X_train_scaled, y_train,cv=5)\n",
    "print(cv)\n",
    "print(f'{cv.mean()} +/-{cv.std():.2f}')"
   ]
  },
  {
   "cell_type": "code",
   "execution_count": 37,
   "id": "d906953d",
   "metadata": {
    "execution": {
     "iopub.execute_input": "2022-02-20T13:47:00.395922Z",
     "iopub.status.busy": "2022-02-20T13:47:00.395215Z",
     "iopub.status.idle": "2022-02-20T13:47:00.600296Z",
     "shell.execute_reply": "2022-02-20T13:47:00.601132Z",
     "shell.execute_reply.started": "2022-02-20T13:31:53.431846Z"
    },
    "papermill": {
     "duration": 0.281611,
     "end_time": "2022-02-20T13:47:00.601346",
     "exception": false,
     "start_time": "2022-02-20T13:47:00.319735",
     "status": "completed"
    },
    "tags": []
   },
   "outputs": [
    {
     "data": {
      "image/png": "[encoded data removed]",
      "text/plain": [
       "<Figure size 432x288 with 1 Axes>"
      ]
     },
     "metadata": {
      "needs_background": "light"
     },
     "output_type": "display_data"
    }
   ],
   "source": [
    "plt.hist(original_age, alpha=0.3, color='green')\n",
    "plt.hist(em_age, alpha=0.3, color='orange');"
   ]
  },
  {
   "cell_type": "markdown",
   "id": "e7269ce6",
   "metadata": {
    "papermill": {
     "duration": 0.045301,
     "end_time": "2022-02-20T13:47:00.702941",
     "exception": false,
     "start_time": "2022-02-20T13:47:00.657640",
     "status": "completed"
    },
    "tags": []
   },
   "source": [
    "**EM based on Fisk distribution**"
   ]
  },
  {
   "cell_type": "code",
   "execution_count": 38,
   "id": "e403456b",
   "metadata": {
    "execution": {
     "iopub.execute_input": "2022-02-20T13:47:00.795510Z",
     "iopub.status.busy": "2022-02-20T13:47:00.794876Z",
     "iopub.status.idle": "2022-02-20T13:47:00.797063Z",
     "shell.execute_reply": "2022-02-20T13:47:00.796527Z",
     "shell.execute_reply.started": "2022-02-20T13:37:15.678563Z"
    },
    "papermill": {
     "duration": 0.050458,
     "end_time": "2022-02-20T13:47:00.797187",
     "exception": false,
     "start_time": "2022-02-20T13:47:00.746729",
     "status": "completed"
    },
    "tags": []
   },
   "outputs": [],
   "source": [
    "from scipy.stats import norm, lognorm, normaltest, fisk, burr"
   ]
  },
  {
   "cell_type": "code",
   "execution_count": 39,
   "id": "2e1c804a",
   "metadata": {
    "execution": {
     "iopub.execute_input": "2022-02-20T13:47:00.887873Z",
     "iopub.status.busy": "2022-02-20T13:47:00.887295Z",
     "iopub.status.idle": "2022-02-20T13:47:00.894405Z",
     "shell.execute_reply": "2022-02-20T13:47:00.894942Z",
     "shell.execute_reply.started": "2022-02-20T13:31:53.780393Z"
    },
    "papermill": {
     "duration": 0.054082,
     "end_time": "2022-02-20T13:47:00.895104",
     "exception": false,
     "start_time": "2022-02-20T13:47:00.841022",
     "status": "completed"
    },
    "tags": []
   },
   "outputs": [
    {
     "name": "stdout",
     "output_type": "stream",
     "text": [
      "normaltest teststat = 28.180 pvalue = 0.0000\n"
     ]
    }
   ],
   "source": [
    "# Age data is not normal distributed\n",
    "normal_data = original_age[~np.isnan(original_age)]\n",
    "print('normaltest teststat = %6.3f pvalue = %6.4f' %\n",
    "      normaltest((normal_data-normal_data.mean())/normal_data.std()))"
   ]
  },
  {
   "cell_type": "code",
   "execution_count": 40,
   "id": "d63de22b",
   "metadata": {
    "execution": {
     "iopub.execute_input": "2022-02-20T13:47:00.986424Z",
     "iopub.status.busy": "2022-02-20T13:47:00.985876Z",
     "iopub.status.idle": "2022-02-20T13:47:01.157007Z",
     "shell.execute_reply": "2022-02-20T13:47:01.157418Z",
     "shell.execute_reply.started": "2022-02-20T13:31:53.800249Z"
    },
    "papermill": {
     "duration": 0.218571,
     "end_time": "2022-02-20T13:47:01.157587",
     "exception": false,
     "start_time": "2022-02-20T13:47:00.939016",
     "status": "completed"
    },
    "tags": []
   },
   "outputs": [
    {
     "data": {
      "text/plain": [
       "(10.576534289959959, -55.85940918081563, 84.50719834774009)"
      ]
     },
     "execution_count": 40,
     "metadata": {},
     "output_type": "execute_result"
    }
   ],
   "source": [
    "# Lets fit the \n",
    "fisk.fit(original_age[~np.isnan(original_age)])"
   ]
  },
  {
   "cell_type": "code",
   "execution_count": 41,
   "id": "df03bae3",
   "metadata": {
    "execution": {
     "iopub.execute_input": "2022-02-20T13:47:01.249032Z",
     "iopub.status.busy": "2022-02-20T13:47:01.248465Z",
     "iopub.status.idle": "2022-02-20T13:50:08.798561Z",
     "shell.execute_reply": "2022-02-20T13:50:08.797858Z",
     "shell.execute_reply.started": "2022-02-20T13:31:54.005537Z"
    },
    "papermill": {
     "duration": 187.596857,
     "end_time": "2022-02-20T13:50:08.798768",
     "exception": false,
     "start_time": "2022-02-20T13:47:01.201911",
     "status": "completed"
    },
    "tags": []
   },
   "outputs": [
    {
     "name": "stdout",
     "output_type": "stream",
     "text": [
      "Imputed 5 with 21.904894726193454\n",
      "Imputed 17 with 35.224959523660615\n",
      "Imputed 19 with 27.532748296734113\n",
      "Imputed 26 with 17.697004918840577\n",
      "Imputed 28 with 22.747812928478865\n",
      "Imputed 29 with 20.13479050563508\n",
      "Imputed 31 with 44.36993221175295\n",
      "Imputed 32 with 33.10964595035121\n",
      "Imputed 36 with 33.647652555916046\n",
      "Imputed 42 with 45.95961799146137\n",
      "Imputed 45 with 18.525807301239382\n",
      "Imputed 46 with 58.18891931933875\n",
      "Imputed 47 with 43.0474386128635\n",
      "Imputed 48 with 24.97043428851204\n",
      "Imputed 55 with 27.320106086705707\n",
      "Imputed 63 with 31.756907368513026\n",
      "Imputed 64 with 33.51219988364605\n",
      "Imputed 75 with 32.23233750988935\n",
      "Imputed 76 with 36.695807751150895\n",
      "Imputed 81 with 21.635005766790968\n",
      "Imputed 86 with 32.13662727274155\n",
      "Imputed 94 with 40.13764309940435\n",
      "Imputed 100 with 37.28081878975408\n",
      "Imputed 106 with 32.23168531399827\n",
      "Imputed 108 with 27.473289005429194\n",
      "Imputed 120 with 19.907539222704656\n",
      "Imputed 125 with 23.587583328703182\n",
      "Imputed 127 with 27.2909312852899\n",
      "Imputed 139 with 18.65810233514675\n",
      "Imputed 153 with 54.483148300500794\n",
      "Imputed 157 with 21.514420579945025\n",
      "Imputed 158 with 0.17\n",
      "Imputed 165 with 29.841054267548017\n",
      "Imputed 167 with 28.209808976263645\n",
      "Imputed 175 with 30.546249284907233\n",
      "Imputed 179 with 16.820252760360148\n",
      "Imputed 180 with 41.999622437301014\n",
      "Imputed 184 with 80.0\n",
      "Imputed 185 with 42.81525273318531\n",
      "Imputed 195 with 45.81282510284517\n",
      "Imputed 197 with 29.98072274284236\n",
      "Imputed 200 with 34.58513421271587\n",
      "Imputed 213 with 70.4349870936787\n",
      "Imputed 222 with 35.34421929806196\n",
      "Imputed 228 with 50.520934876542114\n",
      "Imputed 234 with 31.902324771174747\n",
      "Imputed 239 with 33.051653153031694\n",
      "Imputed 240 with 14.151571552579256\n",
      "Imputed 249 with 29.922114454254555\n",
      "Imputed 255 with 33.75221681859354\n",
      "Imputed 259 with 28.533602841776514\n",
      "Imputed 263 with 21.19444321181743\n",
      "Imputed 269 with 25.344945867111562\n",
      "Imputed 273 with 31.93989061521603\n",
      "Imputed 276 with 22.15137396928607\n",
      "Imputed 283 with 37.54538626503165\n",
      "Imputed 294 with 26.9258487737833\n",
      "Imputed 297 with 18.76150803925629\n",
      "Imputed 299 with 21.01028539769723\n",
      "Imputed 300 with 39.287953289408925\n",
      "Imputed 302 with 11.389511841009892\n",
      "Imputed 303 with 23.560824256198373\n",
      "Imputed 305 with 38.00566203907907\n",
      "Imputed 323 with 4.642334605026505\n",
      "Imputed 329 with 35.01833833213368\n",
      "Imputed 333 with 31.013841474374104\n",
      "Imputed 334 with 34.64107551203824\n",
      "Imputed 346 with 27.20312613353856\n",
      "Imputed 350 with 43.122759076605064\n",
      "Imputed 353 with 30.012139481117792\n",
      "Imputed 357 with 36.10615885940463\n",
      "Imputed 358 with 38.915341938308934\n",
      "Imputed 363 with 24.82281882275104\n",
      "Imputed 366 with 44.631809952778184\n",
      "Imputed 367 with 27.255698452102138\n",
      "Imputed 374 with 16.506144696503924\n",
      "Imputed 383 with 30.666953655186056\n",
      "Imputed 387 with 21.58835977466199\n",
      "Imputed 408 with 31.746953250269016\n",
      "Imputed 409 with 27.941500960730167\n",
      "Imputed 410 with 23.005576010471657\n",
      "Imputed 412 with 38.335390920841675\n",
      "Imputed 414 with 37.94743379107628\n",
      "Imputed 419 with 25.84216168414214\n",
      "Imputed 424 with 34.244859463121614\n",
      "Imputed 427 with 24.3150647887662\n",
      "Imputed 430 with 19.950111997203955\n",
      "Imputed 443 with 25.282196345873864\n",
      "Imputed 450 with 37.766508323180354\n",
      "Imputed 453 with 19.803380575823006\n",
      "Imputed 456 with 32.954713809446005\n",
      "Imputed 458 with 4.014874673899612\n",
      "Imputed 463 with 9.081043025912017\n",
      "Imputed 465 with 47.018508178995035\n",
      "Imputed 467 with 16.52316343789532\n",
      "Imputed 469 with 28.314415910664984\n",
      "Imputed 474 with 44.36193380055711\n",
      "Imputed 480 with 13.472566869428043\n",
      "Imputed 484 with 34.666804861613855\n",
      "Imputed 489 with 22.231988415336346\n",
      "Imputed 494 with 20.458525055326504\n",
      "Imputed 496 with 38.207501644122644\n",
      "Imputed 501 with 47.43830013868722\n",
      "Imputed 506 with 40.93096116112589\n",
      "Imputed 510 with 38.24665481598552\n",
      "Imputed 516 with 47.506857835198595\n",
      "Imputed 521 with 10.509199109433482\n",
      "Imputed 523 with 26.07354570699833\n",
      "Imputed 526 with 45.649289407198154\n",
      "Imputed 530 with 18.00034747922188\n",
      "Imputed 532 with 62.017624667283826\n",
      "Imputed 537 with 25.802596286553054\n",
      "Imputed 546 with 43.76109495327704\n",
      "Imputed 551 with 30.319706839397682\n",
      "Imputed 556 with 26.036907138465146\n",
      "Imputed 559 with 16.703936313852722\n",
      "Imputed 562 with 25.563285552799805\n",
      "Imputed 563 with 51.19186803775285\n",
      "Imputed 567 with 20.914369669311903\n",
      "Imputed 572 with 28.982632767305134\n",
      "Imputed 577 with 10.121646359042089\n",
      "Imputed 583 with 28.244869853678374\n",
      "Imputed 588 with 58.28343712243286\n",
      "Imputed 592 with 21.493878245463414\n",
      "Imputed 595 with 24.154360642770584\n",
      "Imputed 597 with 27.304339241109787\n",
      "Imputed 600 with 20.010346562498377\n",
      "Imputed 601 with 36.060088663623524\n",
      "Imputed 610 with 46.98114149078729\n",
      "Imputed 611 with 14.158646639307975\n",
      "Imputed 612 with 5.30453745108575\n",
      "Imputed 628 with 37.96857352076486\n",
      "Imputed 632 with 19.306194120855316\n",
      "Imputed 638 with 28.161517514326064\n",
      "Imputed 642 with 34.58196004926657\n",
      "Imputed 647 with 7.808222608736074\n",
      "Imputed 649 with 31.20503876986139\n",
      "Imputed 652 with 42.21743457949944\n",
      "Imputed 655 with 27.14352689797235\n",
      "Imputed 666 with 43.183502939518014\n",
      "Imputed 668 with 32.704028618261134\n",
      "Imputed 673 with 22.972336668225495\n",
      "Imputed 679 with 26.66165992590325\n",
      "Imputed 691 with 22.778343201256703\n",
      "Imputed 696 with 33.621567828498584\n",
      "Imputed 708 with 37.505594285668906\n",
      "Imputed 710 with 19.806416894838875\n",
      "Imputed 717 with 22.395711158902586\n",
      "Imputed 726 with 43.919260854007824\n",
      "Imputed 731 with 17.070280891990308\n",
      "Imputed 737 with 16.362393697151873\n",
      "Imputed 738 with 12.700247687088492\n",
      "Imputed 739 with 58.78189012883708\n",
      "Imputed 759 with 26.764617178137968\n",
      "Imputed 765 with 30.464401792936613\n",
      "Imputed 767 with 13.67128596899137\n",
      "Imputed 772 with 80.0\n",
      "Imputed 775 with 24.636283274194355\n",
      "Imputed 777 with 21.14501227628827\n",
      "Imputed 782 with 26.48457597407696\n",
      "Imputed 789 with 39.19168024853758\n",
      "Imputed 791 with 27.302493243917027\n",
      "Imputed 792 with 25.29970585914598\n",
      "Imputed 814 with 48.66160701911926\n",
      "Imputed 824 with 32.64019585291901\n",
      "Imputed 825 with 30.5063014124338\n",
      "Imputed 827 with 32.28906705157369\n",
      "Imputed 830 with 16.735254685089366\n",
      "Imputed 835 with 12.078705027358822\n",
      "Imputed 837 with 45.125690351139546\n",
      "Imputed 844 with 54.341659387152916\n",
      "Imputed 847 with 21.569577228027207\n",
      "Imputed 857 with 59.231323302498254\n",
      "Imputed 861 with 29.2982247432857\n",
      "Imputed 866 with 27.265379264586997\n",
      "Imputed 876 with 29.525021115613995\n",
      "Imputed 886 with 26.261870918707288\n",
      "Imputed 899 with 11.029032892259835\n",
      "Imputed 911 with 38.160538650228204\n",
      "Imputed 918 with 23.16690277169866\n",
      "Imputed 922 with 40.96660295010159\n",
      "Imputed 925 with 39.25790947432422\n",
      "Imputed 928 with 27.219962100573625\n",
      "Imputed 930 with 23.22265034032312\n",
      "Imputed 936 with 24.030856884161594\n",
      "Imputed 943 with 30.231808827816877\n",
      "Imputed 947 with 26.961457576159688\n",
      "Imputed 954 with 27.495351412229766\n",
      "Imputed 965 with 44.60728847178942\n",
      "Imputed 972 with 37.32875117362658\n",
      "Imputed 973 with 31.73463293045691\n",
      "Imputed 974 with 8.309159886904894\n",
      "Imputed 977 with 27.370185824230056\n",
      "Imputed 980 with 26.17397184196348\n",
      "Imputed 982 with 20.18124643384263\n",
      "Imputed 991 with 13.532753985089897\n",
      "Imputed 996 with 15.275708930280771\n",
      "Imputed 997 with 31.9760771278237\n",
      "Imputed 1000 with 24.226903271710462\n",
      "Imputed 1005 with 48.95468399960433\n",
      "Imputed 1010 with 40.46853779824905\n",
      "Imputed 1013 with 21.530975443618466\n",
      "Imputed 1016 with 18.56677157554858\n",
      "Imputed 1021 with 27.182766477676708\n",
      "Imputed 1022 with 53.73700618881863\n",
      "Imputed 1035 with 23.073013374587603\n",
      "Imputed 1037 with 36.30058497988405\n",
      "Imputed 1040 with 25.651931528770398\n",
      "Imputed 1049 with 40.611568359102876\n",
      "Imputed 1052 with 28.091918971088035\n",
      "Imputed 1057 with 26.16072985441449\n",
      "Imputed 1059 with 24.928497075156024\n",
      "Imputed 1062 with 40.01279802215127\n",
      "Imputed 1072 with 56.90329479525019\n",
      "Imputed 1077 with 50.77175547731351\n",
      "Imputed 1080 with 9.668342954990088\n",
      "Imputed 1088 with 39.94029562369377\n",
      "Imputed 1089 with 25.09913691157074\n",
      "Imputed 1094 with 25.476116667295358\n",
      "Imputed 1100 with 25.955629489763425\n",
      "Imputed 1105 with 55.604406190283065\n",
      "Imputed 1108 with 33.509968962388015\n",
      "Imputed 1114 with 47.74435315292358\n",
      "Imputed 1116 with 37.26296745537661\n",
      "Imputed 1122 with 25.52881059730614\n",
      "Imputed 1132 with 29.25225229328096\n",
      "Imputed 1133 with 27.05872397461031\n",
      "Imputed 1138 with 24.095374686372047\n",
      "Imputed 1144 with 34.415799751119465\n",
      "Imputed 1145 with 24.883563679855904\n",
      "Imputed 1154 with 23.586223905047056\n",
      "Imputed 1155 with 25.525860729248905\n",
      "Imputed 1156 with 30.89506159923814\n",
      "Imputed 1157 with 34.28352943369269\n",
      "Imputed 1160 with 24.754632728782944\n",
      "Imputed 1162 with 32.48886921912427\n",
      "Imputed 1163 with 21.695588839639683\n",
      "Imputed 1171 with 35.98908272090497\n",
      "Imputed 1175 with 49.79486516417968\n",
      "Imputed 1177 with 24.16855690816773\n",
      "Imputed 1178 with 46.93053025370992\n",
      "Imputed 1179 with 38.8846008669595\n",
      "Imputed 1181 with 33.968613072506884\n",
      "Imputed 1186 with 61.63071649553486\n",
      "Imputed 1190 with 39.247110530112586\n",
      "Imputed 1193 with 23.203278577692842\n",
      "Imputed 1201 with 10.380217292416809\n",
      "Imputed 1221 with 29.46531753469114\n",
      "Imputed 1228 with 34.2755109164941\n",
      "Imputed 1231 with 25.3305008375755\n",
      "Imputed 1233 with 15.706785580192218\n",
      "Imputed 1246 with 27.326617451144656\n",
      "Imputed 1247 with 20.73419052778464\n",
      "Imputed 1254 with 47.416457921493766\n",
      "Imputed 1255 with 38.522044451240816\n",
      "Imputed 1269 with 29.754863718719896\n",
      "Imputed 1271 with 26.280334332178683\n",
      "Imputed 1273 with 16.580521125794093\n",
      "Imputed 1297 with 33.618897249880945\n",
      "Imputed 1299 with 25.502858331051215\n",
      "Imputed 1302 with 20.424272550130752\n",
      "Imputed 1305 with 59.59099266938066\n",
      "Imputed 1306 with 19.165142452567387\n"
     ]
    }
   ],
   "source": [
    "eps=0.1\n",
    "original_age.reset_index(drop=True, inplace=True)\n",
    "nan_row = original_age[np.isnan(original_age)].index\n",
    "em_age = original_age.copy().values\n",
    "for x_i in nan_row:\n",
    "    previous = 1\n",
    "    for i in range(5):\n",
    "        # Expectation\n",
    "        fitting_params = fisk.fit(em_age[~np.isnan(em_age)])\n",
    "        # Maximization\n",
    "        em_age[x_i] = np.clip(fisk(*fitting_params).rvs(size=1), original_age.min(), original_age.max())\n",
    "        # Break out of loop if likelihood doesn't change at least 10%\n",
    "        delta = np.abs(em_age[x_i]-previous)/previous\n",
    "        if i and (delta < eps):\n",
    "            break\n",
    "        previous = em_age[x_i]\n",
    "    print (f'Imputed {x_i} with {em_age[x_i]}')"
   ]
  },
  {
   "cell_type": "code",
   "execution_count": 42,
   "id": "cd25fde1",
   "metadata": {
    "execution": {
     "iopub.execute_input": "2022-02-20T13:50:09.010638Z",
     "iopub.status.busy": "2022-02-20T13:50:09.009053Z",
     "iopub.status.idle": "2022-02-20T13:50:09.232493Z",
     "shell.execute_reply": "2022-02-20T13:50:09.231914Z",
     "shell.execute_reply.started": "2022-02-20T13:35:02.601618Z"
    },
    "papermill": {
     "duration": 0.329605,
     "end_time": "2022-02-20T13:50:09.232627",
     "exception": false,
     "start_time": "2022-02-20T13:50:08.903022",
     "status": "completed"
    },
    "tags": []
   },
   "outputs": [
    {
     "data": {
      "image/png": "[encoded data removed]",
      "text/plain": [
       "<Figure size 432x288 with 1 Axes>"
      ]
     },
     "metadata": {
      "needs_background": "light"
     },
     "output_type": "display_data"
    }
   ],
   "source": [
    "plt.hist(original_age, alpha=0.3, color='green')\n",
    "plt.hist(em_age, alpha=0.3, color='orange');"
   ]
  },
  {
   "cell_type": "code",
   "execution_count": 43,
   "id": "e0cb1b1c",
   "metadata": {
    "execution": {
     "iopub.execute_input": "2022-02-20T13:50:09.454399Z",
     "iopub.status.busy": "2022-02-20T13:50:09.453741Z",
     "iopub.status.idle": "2022-02-20T13:50:09.469344Z",
     "shell.execute_reply": "2022-02-20T13:50:09.469802Z",
     "shell.execute_reply.started": "2022-02-20T13:35:02.797543Z"
    },
    "papermill": {
     "duration": 0.131229,
     "end_time": "2022-02-20T13:50:09.469976",
     "exception": false,
     "start_time": "2022-02-20T13:50:09.338747",
     "status": "completed"
    },
    "tags": []
   },
   "outputs": [],
   "source": [
    "# Impute the data with the median\n",
    "data.Age = em_age\n",
    "all_dummies = pd.get_dummies(data[['Pclass','Sex','Age','SibSp','Parch','norm_fare','Embarked','cabin_adv','cabin_multiple','numeric_ticket','name_title','train_test']])\n",
    "\n",
    "all_dummies_scaled = all_dummies.copy()\n",
    "all_dummies_scaled[['Age','SibSp','Parch','norm_fare']]= scale.fit_transform(all_dummies_scaled[['Age','SibSp','Parch','norm_fare']])\n",
    "all_dummies_scaled\n",
    "\n",
    "X_train_scaled = all_dummies_scaled[all_dummies_scaled.train_test == 1].drop(['train_test'], axis =1)\n",
    "X_test_scaled = all_dummies_scaled[all_dummies_scaled.train_test == 0].drop(['train_test'], axis =1)\n",
    "\n",
    "y_train = data[data.train_test==1].Survived"
   ]
  },
  {
   "cell_type": "code",
   "execution_count": 44,
   "id": "c70b3aa5",
   "metadata": {
    "execution": {
     "iopub.execute_input": "2022-02-20T13:50:09.682399Z",
     "iopub.status.busy": "2022-02-20T13:50:09.681479Z",
     "iopub.status.idle": "2022-02-20T13:50:13.106444Z",
     "shell.execute_reply": "2022-02-20T13:50:13.106938Z",
     "shell.execute_reply.started": "2022-02-20T13:35:02.833267Z"
    },
    "papermill": {
     "duration": 3.533909,
     "end_time": "2022-02-20T13:50:13.107129",
     "exception": false,
     "start_time": "2022-02-20T13:50:09.573220",
     "status": "completed"
    },
    "tags": []
   },
   "outputs": [
    {
     "name": "stdout",
     "output_type": "stream",
     "text": [
      "[0.78651685 0.80337079 0.84831461 0.80337079 0.83615819]\n",
      "0.8155462451596522 +/-0.02\n"
     ]
    }
   ],
   "source": [
    "hgb = HistGradientBoostingClassifier()\n",
    "cv = cross_val_score(hgb, X_train_scaled, y_train,cv=5)\n",
    "print(cv)\n",
    "print(f'{cv.mean()} +/-{cv.std():.2f}')"
   ]
  },
  {
   "cell_type": "markdown",
   "id": "bc0c952d",
   "metadata": {
    "papermill": {
     "duration": 0.133128,
     "end_time": "2022-02-20T13:50:13.374758",
     "exception": false,
     "start_time": "2022-02-20T13:50:13.241630",
     "status": "completed"
    },
    "tags": []
   },
   "source": [
    "# Burr disribution"
   ]
  },
  {
   "cell_type": "code",
   "execution_count": 45,
   "id": "bd5114f1",
   "metadata": {
    "execution": {
     "iopub.execute_input": "2022-02-20T13:50:13.617391Z",
     "iopub.status.busy": "2022-02-20T13:50:13.616791Z",
     "iopub.status.idle": "2022-02-20T13:50:13.903770Z",
     "shell.execute_reply": "2022-02-20T13:50:13.904329Z",
     "shell.execute_reply.started": "2022-02-20T13:37:20.891775Z"
    },
    "papermill": {
     "duration": 0.396675,
     "end_time": "2022-02-20T13:50:13.904527",
     "exception": false,
     "start_time": "2022-02-20T13:50:13.507852",
     "status": "completed"
    },
    "tags": []
   },
   "outputs": [
    {
     "data": {
      "text/plain": [
       "(6.213245028277331, 0.4999456314550324, -9.623269105027845, 45.78790730981197)"
      ]
     },
     "execution_count": 45,
     "metadata": {},
     "output_type": "execute_result"
    }
   ],
   "source": [
    "# Lets fit the \n",
    "burr.fit(original_age[~np.isnan(original_age)])"
   ]
  },
  {
   "cell_type": "code",
   "execution_count": 46,
   "id": "0d997a5e",
   "metadata": {
    "execution": {
     "iopub.execute_input": "2022-02-20T13:50:14.115860Z",
     "iopub.status.busy": "2022-02-20T13:50:14.115300Z",
     "iopub.status.idle": "2022-02-20T13:56:12.188885Z",
     "shell.execute_reply": "2022-02-20T13:56:12.188098Z",
     "shell.execute_reply.started": "2022-02-20T13:38:06.381159Z"
    },
    "papermill": {
     "duration": 358.179862,
     "end_time": "2022-02-20T13:56:12.189128",
     "exception": false,
     "start_time": "2022-02-20T13:50:14.009266",
     "status": "completed"
    },
    "tags": []
   },
   "outputs": [
    {
     "name": "stdout",
     "output_type": "stream",
     "text": [
      "Imputed 5 with 11.786088257407435\n",
      "Imputed 17 with 30.56570361644795\n",
      "Imputed 19 with 41.62619214010155\n",
      "Imputed 26 with 26.751801845507202\n",
      "Imputed 28 with 30.486324433990923\n",
      "Imputed 29 with 57.180744811594586\n",
      "Imputed 31 with 38.665146220696094\n",
      "Imputed 32 with 25.290970919236802\n",
      "Imputed 36 with 28.31123731477715\n",
      "Imputed 42 with 20.07075189895459\n",
      "Imputed 45 with 77.5277749671423\n",
      "Imputed 46 with 35.28236088160456\n",
      "Imputed 47 with 80.0\n",
      "Imputed 48 with 35.204349684776915\n",
      "Imputed 55 with 24.639643525298514\n",
      "Imputed 63 with 27.542909466594292\n",
      "Imputed 64 with 21.193445119528878\n",
      "Imputed 75 with 23.58387659683719\n",
      "Imputed 76 with 35.94762957031364\n",
      "Imputed 81 with 29.174803398538824\n",
      "Imputed 86 with 64.21161651298928\n",
      "Imputed 94 with 41.18626315752018\n",
      "Imputed 100 with 31.877996485200267\n",
      "Imputed 106 with 5.942309291668003\n",
      "Imputed 108 with 23.494592776279\n",
      "Imputed 120 with 0.17\n",
      "Imputed 125 with 27.512721225639385\n",
      "Imputed 127 with 23.796830550141422\n",
      "Imputed 139 with 30.87815998795113\n",
      "Imputed 153 with 12.712636876278061\n",
      "Imputed 157 with 36.00382827927407\n",
      "Imputed 158 with 30.51444080474507\n",
      "Imputed 165 with 30.40967151951487\n",
      "Imputed 167 with 62.34530260322089\n",
      "Imputed 175 with 14.433805508314954\n",
      "Imputed 179 with 23.679675692949058\n",
      "Imputed 180 with 19.955512682890003\n",
      "Imputed 184 with 32.24753182393177\n",
      "Imputed 185 with 58.13762899435754\n",
      "Imputed 195 with 44.08020954415029\n",
      "Imputed 197 with 24.919265427389014\n",
      "Imputed 200 with 25.958958649077825\n",
      "Imputed 213 with 18.637646241613396\n",
      "Imputed 222 with 27.891710022364588\n",
      "Imputed 228 with 23.651989983232916\n",
      "Imputed 234 with 21.79984046057681\n",
      "Imputed 239 with 20.023783895340056\n",
      "Imputed 240 with 38.147745287823696\n",
      "Imputed 249 with 28.59898632659442\n",
      "Imputed 255 with 25.13384027985487\n",
      "Imputed 259 with 23.736294418338765\n",
      "Imputed 263 with 25.88239197732576\n",
      "Imputed 269 with 31.583029612758402\n",
      "Imputed 273 with 25.847335022124007\n",
      "Imputed 276 with 36.996594502964726\n",
      "Imputed 283 with 32.396734858770955\n",
      "Imputed 294 with 7.447720671523811\n",
      "Imputed 297 with 24.357219000048016\n",
      "Imputed 299 with 35.030977454386836\n",
      "Imputed 300 with 23.699495132935898\n",
      "Imputed 302 with 24.49439077542276\n",
      "Imputed 303 with 29.172250116257956\n",
      "Imputed 305 with 27.691006403366263\n",
      "Imputed 323 with 15.603912547651952\n",
      "Imputed 329 with 22.091058503942797\n",
      "Imputed 333 with 22.094721246883267\n",
      "Imputed 334 with 29.5224404952003\n",
      "Imputed 346 with 30.76891643928819\n",
      "Imputed 350 with 17.716396739781942\n",
      "Imputed 353 with 41.25979951867453\n",
      "Imputed 357 with 24.6287822672369\n",
      "Imputed 358 with 22.305191893519606\n",
      "Imputed 363 with 30.59351508863803\n",
      "Imputed 366 with 22.84853173099721\n",
      "Imputed 367 with 32.00985790978805\n",
      "Imputed 374 with 36.462441538491476\n",
      "Imputed 383 with 32.138619136253254\n",
      "Imputed 387 with 14.599301831657499\n",
      "Imputed 408 with 9.861753150967388\n",
      "Imputed 409 with 8.84438481609402\n",
      "Imputed 410 with 34.05684259004448\n",
      "Imputed 412 with 35.96902688225564\n",
      "Imputed 414 with 49.97716059852446\n",
      "Imputed 419 with 38.09763333446277\n",
      "Imputed 424 with 26.303222944355532\n",
      "Imputed 427 with 33.6775438738169\n",
      "Imputed 430 with 45.36022948702728\n",
      "Imputed 443 with 50.0509256020939\n",
      "Imputed 450 with 32.97661180981291\n",
      "Imputed 453 with 24.263533924549588\n",
      "Imputed 456 with 21.17496192900221\n",
      "Imputed 458 with 32.31697528332377\n",
      "Imputed 463 with 10.578573361987935\n",
      "Imputed 465 with 39.74913823201041\n",
      "Imputed 467 with 41.13939045563296\n",
      "Imputed 469 with 11.882145318724\n",
      "Imputed 474 with 36.214043760079036\n",
      "Imputed 480 with 38.90843840678859\n",
      "Imputed 484 with 20.0567557321528\n",
      "Imputed 489 with 30.073523762746863\n",
      "Imputed 494 with 27.943034057024207\n",
      "Imputed 496 with 41.78684311000325\n",
      "Imputed 501 with 27.092438280605823\n",
      "Imputed 506 with 14.156633450679024\n",
      "Imputed 510 with 10.404131771956049\n",
      "Imputed 516 with 28.98831610745503\n",
      "Imputed 521 with 25.279512693537118\n",
      "Imputed 523 with 33.47640923136254\n",
      "Imputed 526 with 34.9536409921084\n",
      "Imputed 530 with 30.350977009144536\n",
      "Imputed 532 with 16.836138694270044\n",
      "Imputed 537 with 32.395107485716096\n",
      "Imputed 546 with 5.199565060576884\n",
      "Imputed 551 with 21.48108019962504\n",
      "Imputed 556 with 37.45233676698935\n",
      "Imputed 559 with 40.525285721935255\n",
      "Imputed 562 with 12.614146771140877\n",
      "Imputed 563 with 27.67629450979161\n",
      "Imputed 567 with 26.6698030653208\n",
      "Imputed 572 with 43.167665052490165\n",
      "Imputed 577 with 18.53888068182106\n",
      "Imputed 583 with 21.450528340023446\n",
      "Imputed 588 with 53.40676684478373\n",
      "Imputed 592 with 30.273184966273337\n",
      "Imputed 595 with 30.22089429754975\n",
      "Imputed 597 with 42.78718207530542\n",
      "Imputed 600 with 56.08529905263509\n",
      "Imputed 601 with 39.6439713875496\n",
      "Imputed 610 with 80.0\n",
      "Imputed 611 with 26.12244288033224\n",
      "Imputed 612 with 38.216551007292125\n",
      "Imputed 628 with 24.901372302842248\n",
      "Imputed 632 with 65.4625212954362\n",
      "Imputed 638 with 8.544916067380056\n",
      "Imputed 642 with 49.182264792075905\n",
      "Imputed 647 with 43.68618591093785\n",
      "Imputed 649 with 5.263106190665109\n",
      "Imputed 652 with 23.156360117794648\n",
      "Imputed 655 with 18.756981388436085\n",
      "Imputed 666 with 33.08350898616937\n",
      "Imputed 668 with 4.81373105141418\n",
      "Imputed 673 with 26.072687770871163\n",
      "Imputed 679 with 57.516919938525675\n",
      "Imputed 691 with 35.87997667296845\n",
      "Imputed 696 with 19.46792009494689\n",
      "Imputed 708 with 17.881556775942414\n",
      "Imputed 710 with 30.316265720881574\n",
      "Imputed 717 with 27.351691391994276\n",
      "Imputed 726 with 25.594877454667536\n",
      "Imputed 731 with 31.36591222767018\n",
      "Imputed 737 with 23.15437032498769\n",
      "Imputed 738 with 25.006509580262875\n",
      "Imputed 739 with 9.138746404234675\n",
      "Imputed 759 with 26.198790029421787\n",
      "Imputed 765 with 24.091153787995747\n",
      "Imputed 767 with 31.308046313449744\n",
      "Imputed 772 with 28.469159734964666\n",
      "Imputed 775 with 24.81988570818968\n",
      "Imputed 777 with 36.865611605197735\n",
      "Imputed 782 with 18.499758414646426\n",
      "Imputed 789 with 35.53696832313659\n",
      "Imputed 791 with 4.666273302096997\n",
      "Imputed 792 with 30.492647459285735\n",
      "Imputed 814 with 12.297955691504196\n",
      "Imputed 824 with 16.79870456672471\n",
      "Imputed 825 with 31.667363742036187\n",
      "Imputed 827 with 27.25468666405826\n",
      "Imputed 830 with 45.77151944169898\n",
      "Imputed 835 with 26.625944523473628\n",
      "Imputed 837 with 14.195384004418385\n",
      "Imputed 844 with 29.467053333817738\n",
      "Imputed 847 with 32.560655982188976\n",
      "Imputed 857 with 32.51870224924306\n",
      "Imputed 861 with 48.418553200656035\n",
      "Imputed 866 with 22.944212311202605\n",
      "Imputed 876 with 33.72541296537078\n",
      "Imputed 886 with 68.53286647645066\n",
      "Imputed 899 with 22.34963980483316\n",
      "Imputed 911 with 24.44761652938545\n",
      "Imputed 918 with 25.431064159021005\n",
      "Imputed 922 with 16.247048322491864\n",
      "Imputed 925 with 24.673822613746378\n",
      "Imputed 928 with 16.912030660810014\n",
      "Imputed 930 with 14.920421150259312\n",
      "Imputed 936 with 23.05876616296373\n",
      "Imputed 943 with 20.145614720336425\n",
      "Imputed 947 with 51.13630723962909\n",
      "Imputed 954 with 44.013680126205344\n",
      "Imputed 965 with 19.585195385574337\n",
      "Imputed 972 with 25.857858779141488\n",
      "Imputed 973 with 27.041700188571173\n",
      "Imputed 974 with 38.79662609541775\n",
      "Imputed 977 with 42.58677815247293\n",
      "Imputed 980 with 36.441077892519885\n",
      "Imputed 982 with 42.061259181058446\n",
      "Imputed 991 with 19.634943665426402\n",
      "Imputed 996 with 17.809747454668056\n",
      "Imputed 997 with 41.852516391663926\n",
      "Imputed 1000 with 17.49907903765931\n",
      "Imputed 1005 with 0.17\n",
      "Imputed 1010 with 44.162528582985864\n",
      "Imputed 1013 with 14.148506081948856\n",
      "Imputed 1016 with 31.32784715916211\n",
      "Imputed 1021 with 31.96607546558255\n",
      "Imputed 1022 with 6.8741601103878\n",
      "Imputed 1035 with 11.41933533328497\n",
      "Imputed 1037 with 53.52124104177852\n",
      "Imputed 1040 with 29.550082608396423\n",
      "Imputed 1049 with 32.445865261928525\n",
      "Imputed 1052 with 35.972811624714524\n",
      "Imputed 1057 with 47.72793485375357\n",
      "Imputed 1059 with 8.500164061729777\n",
      "Imputed 1062 with 27.0973871943527\n",
      "Imputed 1072 with 29.780399900561793\n",
      "Imputed 1077 with 47.45638308674633\n",
      "Imputed 1080 with 26.330693681395612\n",
      "Imputed 1088 with 16.136014780826947\n",
      "Imputed 1089 with 54.45331885225228\n",
      "Imputed 1094 with 24.761277583716698\n",
      "Imputed 1100 with 36.2763974697523\n",
      "Imputed 1105 with 45.361840518998605\n",
      "Imputed 1108 with 61.99568328376897\n",
      "Imputed 1114 with 31.343042715732803\n",
      "Imputed 1116 with 44.97581752121898\n",
      "Imputed 1122 with 26.10701961653742\n",
      "Imputed 1132 with 10.974892435355267\n",
      "Imputed 1133 with 31.216328381715037\n",
      "Imputed 1138 with 24.631250664811454\n",
      "Imputed 1144 with 29.942625970469827\n",
      "Imputed 1145 with 24.604306302584448\n",
      "Imputed 1154 with 38.88011586453282\n",
      "Imputed 1155 with 60.41642837126296\n",
      "Imputed 1156 with 33.82530534350873\n",
      "Imputed 1157 with 53.281097663795094\n",
      "Imputed 1160 with 28.866600142265103\n",
      "Imputed 1162 with 37.99832681691996\n",
      "Imputed 1163 with 18.057412967663502\n",
      "Imputed 1171 with 41.87239436038479\n",
      "Imputed 1175 with 38.60846333426847\n",
      "Imputed 1177 with 27.897656087943226\n",
      "Imputed 1178 with 30.05769632891217\n",
      "Imputed 1179 with 37.78087592304284\n",
      "Imputed 1181 with 34.068565240768876\n",
      "Imputed 1186 with 63.28549073730261\n",
      "Imputed 1190 with 36.63302135749017\n",
      "Imputed 1193 with 29.157668968904495\n",
      "Imputed 1201 with 38.14708513700401\n",
      "Imputed 1221 with 48.14088923594002\n",
      "Imputed 1228 with 43.21494398796765\n",
      "Imputed 1231 with 33.101934343521684\n",
      "Imputed 1233 with 18.452851109035365\n",
      "Imputed 1246 with 53.51705857678327\n",
      "Imputed 1247 with 30.313534461404387\n",
      "Imputed 1254 with 4.537009468664171\n",
      "Imputed 1255 with 11.726905343522976\n",
      "Imputed 1269 with 19.85248726903263\n",
      "Imputed 1271 with 31.24483138418416\n",
      "Imputed 1273 with 22.692628553710076\n",
      "Imputed 1297 with 26.849613605879636\n",
      "Imputed 1299 with 44.55676568505903\n",
      "Imputed 1302 with 44.77628483141592\n",
      "Imputed 1305 with 33.436294146378806\n",
      "Imputed 1306 with 40.90334603054181\n"
     ]
    }
   ],
   "source": [
    "eps=0.1\n",
    "nan_row = original_age[np.isnan(original_age)].index\n",
    "em_age = original_age.copy().values\n",
    "for x_i in nan_row:\n",
    "    previous = 1\n",
    "    for i in range(5):\n",
    "        # Expectation\n",
    "        fitting_params = burr.fit(em_age[~np.isnan(em_age)])\n",
    "        # Maximization\n",
    "        em_age[x_i] = np.clip(burr(*fitting_params).rvs(size=1), original_age.min(), original_age.max())\n",
    "        # Break out of loop if likelihood doesn't change at least 10%\n",
    "        delta = np.abs(em_age[x_i]-previous)/previous\n",
    "        if i and (delta < eps):\n",
    "            break\n",
    "        previous = em_age[x_i]\n",
    "    print (f'Imputed {x_i} with {em_age[x_i]}')"
   ]
  },
  {
   "cell_type": "code",
   "execution_count": 47,
   "id": "3f3afda5",
   "metadata": {
    "execution": {
     "iopub.execute_input": "2022-02-20T13:56:12.524681Z",
     "iopub.status.busy": "2022-02-20T13:56:12.524053Z",
     "iopub.status.idle": "2022-02-20T13:56:12.749795Z",
     "shell.execute_reply": "2022-02-20T13:56:12.749208Z",
     "shell.execute_reply.started": "2022-02-20T13:44:02.555867Z"
    },
    "papermill": {
     "duration": 0.393372,
     "end_time": "2022-02-20T13:56:12.749931",
     "exception": false,
     "start_time": "2022-02-20T13:56:12.356559",
     "status": "completed"
    },
    "tags": []
   },
   "outputs": [
    {
     "data": {
      "image/png": "[encoded data removed]",
      "text/plain": [
       "<Figure size 432x288 with 1 Axes>"
      ]
     },
     "metadata": {
      "needs_background": "light"
     },
     "output_type": "display_data"
    }
   ],
   "source": [
    "plt.hist(original_age, alpha=0.3, color='green')\n",
    "plt.hist(em_age, alpha=0.3, color='orange');"
   ]
  },
  {
   "cell_type": "code",
   "execution_count": 48,
   "id": "ef760f49",
   "metadata": {
    "execution": {
     "iopub.execute_input": "2022-02-20T13:56:13.088606Z",
     "iopub.status.busy": "2022-02-20T13:56:13.082391Z",
     "iopub.status.idle": "2022-02-20T13:56:13.106230Z",
     "shell.execute_reply": "2022-02-20T13:56:13.105710Z",
     "shell.execute_reply.started": "2022-02-20T13:44:11.329924Z"
    },
    "papermill": {
     "duration": 0.191026,
     "end_time": "2022-02-20T13:56:13.106404",
     "exception": false,
     "start_time": "2022-02-20T13:56:12.915378",
     "status": "completed"
    },
    "tags": []
   },
   "outputs": [],
   "source": [
    "# Impute the data with the median\n",
    "data.Age = em_age\n",
    "all_dummies = pd.get_dummies(data[['Pclass','Sex','Age','SibSp','Parch','norm_fare','Embarked','cabin_adv','cabin_multiple','numeric_ticket','name_title','train_test']])\n",
    "\n",
    "all_dummies_scaled = all_dummies.copy()\n",
    "all_dummies_scaled[['Age','SibSp','Parch','norm_fare']]= scale.fit_transform(all_dummies_scaled[['Age','SibSp','Parch','norm_fare']])\n",
    "all_dummies_scaled\n",
    "\n",
    "X_train_scaled = all_dummies_scaled[all_dummies_scaled.train_test == 1].drop(['train_test'], axis =1)\n",
    "X_test_scaled = all_dummies_scaled[all_dummies_scaled.train_test == 0].drop(['train_test'], axis =1)\n",
    "\n",
    "y_train = data[data.train_test==1].Survived"
   ]
  },
  {
   "cell_type": "code",
   "execution_count": 49,
   "id": "fdb24169",
   "metadata": {
    "execution": {
     "iopub.execute_input": "2022-02-20T13:56:13.438558Z",
     "iopub.status.busy": "2022-02-20T13:56:13.437930Z",
     "iopub.status.idle": "2022-02-20T13:56:15.855875Z",
     "shell.execute_reply": "2022-02-20T13:56:15.856528Z",
     "shell.execute_reply.started": "2022-02-20T13:44:16.035811Z"
    },
    "papermill": {
     "duration": 2.587683,
     "end_time": "2022-02-20T13:56:15.856719",
     "exception": false,
     "start_time": "2022-02-20T13:56:13.269036",
     "status": "completed"
    },
    "tags": []
   },
   "outputs": [
    {
     "name": "stdout",
     "output_type": "stream",
     "text": [
      "[0.7752809  0.79775281 0.84831461 0.81460674 0.85310734]\n",
      "0.8178124801625086 +/-0.03\n"
     ]
    }
   ],
   "source": [
    "hgb = HistGradientBoostingClassifier()\n",
    "cv = cross_val_score(hgb, X_train_scaled, y_train, cv=5)\n",
    "print(cv)\n",
    "print(f'{cv.mean()} +/-{cv.std():.2f}')"
   ]
  }
 ],
 "metadata": {
  "kernelspec": {
   "display_name": "Python 3",
   "language": "python",
   "name": "python3"
  },
  "language_info": {
   "codemirror_mode": {
    "name": "ipython",
    "version": 3
   },
   "file_extension": ".py",
   "mimetype": "text/x-python",
   "name": "python",
   "nbconvert_exporter": "python",
   "pygments_lexer": "ipython3",
   "version": "3.7.12"
  },
  "papermill": {
   "default_parameters": {},
   "duration": 580.198792,
   "end_time": "2022-02-20T13:56:16.779063",
   "environment_variables": {},
   "exception": null,
   "input_path": "__notebook__.ipynb",
   "output_path": "__notebook__.ipynb",
   "parameters": {},
   "start_time": "2022-02-20T13:46:36.580271",
   "version": "2.3.3"
  }
 },
 "nbformat": 4,
 "nbformat_minor": 5
}
