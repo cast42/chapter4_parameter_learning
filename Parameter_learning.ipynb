{
  "cells": [
    {
      "cell_type": "markdown",
      "metadata": {
        "id": "tQ1r1bbb0yBv"
      },
      "source": [
        "# <img src=\"https://github.com/JuliaLang/julia-logo-graphics/raw/master/images/julia-logo-color.png\" height=\"100\" /> _for Pythonistas_\n",
        "\n",
        "> TL;DR: _Julia looks and feels a lot like Python, only much faster. It's dynamic, expressive, extensible, with batteries included, in particular for Data Science_.\n",
        "\n",
        "This notebook is an **introduction to Julia for Python programmers**.\n",
        "\n",
        "It will go through the most important Python features (such as functions, basic types, list comprehensions, exceptions, generators, modules, packages, and so on) and show you how to code them in Julia."
      ]
    },
    {
      "cell_type": "markdown",
      "metadata": {
        "id": "f_1dr-2W5iSU"
      },
      "source": [
        "# Getting Started with Julia in Colab/Jupyter\n",
        "You can either run this notebook in Google Colab, or using Jupyter on your own machine."
      ]
    },
    {
      "cell_type": "markdown",
      "metadata": {
        "id": "6ew60wXrZM0W"
      },
      "source": [
        "## Running on Google Colab\n",
        "1. Work on a copy of this notebook: _File_ > _Save a copy in Drive_ (you will need a Google account). Alternatively, you can download the notebook using _File_ > _Download .ipynb_, then upload it to [Colab](https://colab.research.google.com/).\n",
        "2. Execute the following cell (click on it and press Ctrl+Enter) to install Julia, IJulia (the Jupyter kernel for Julia) and other packages. You can update `JULIA_VERSION` and the other parameters, if you know what you're doing. Installation takes 2-3 minutes.\n",
        "3. Reload this page (press Ctrl+R, or ⌘+R, or the F5 key) and continue to the _Checking the Installation_ section.\n",
        "\n",
        "* _Note_: If your Colab Runtime gets reset (e.g., due to inactivity), repeat steps 2 and 3."
      ]
    },
    {
      "cell_type": "code",
      "execution_count": null,
      "metadata": {
        "colab": {
          "base_uri": "https://localhost:8080/"
        },
        "id": "GIeFXS0F0zww",
        "outputId": "9e4fce5a-1730-4683-869f-6921dabc84f8"
      },
      "outputs": [
        {
          "output_type": "stream",
          "name": "stdout",
          "text": [
            "Installing Julia 1.7.1 on the current Colab Runtime...\n",
            "2022-02-17 17:06:20 URL:https://storage.googleapis.com/julialang2/bin/linux/x64/1.7/julia-1.7.1-linux-x86_64.tar.gz [123374573/123374573] -> \"/tmp/julia.tar.gz\" [1]\n",
            "Installing Julia package IJulia...\n",
            "Installing Julia package BenchmarkTools...\n",
            "Installing Julia package PyCall...\n",
            "Installing Julia package PyPlot...\n",
            "Installing IJulia kernel...\n",
            "\u001b[36m\u001b[1m[ \u001b[22m\u001b[39m\u001b[36m\u001b[1mInfo: \u001b[22m\u001b[39mInstalling julia kernelspec in /root/.local/share/jupyter/kernels/julia-1.7\n",
            "\n",
            "Successfully installed julia version 1.7.1!\n",
            "Please reload this page (press Ctrl+R, ⌘+R, or the F5 key) then\n",
            "jump to the 'Checking the Installation' section.\n"
          ]
        },
        {
          "output_type": "execute_result",
          "data": {
            "text/plain": [
              ""
            ]
          },
          "metadata": {},
          "execution_count": 1
        }
      ],
      "source": [
        "%%shell\n",
        "set -e\n",
        "\n",
        "#---------------------------------------------------#\n",
        "JULIA_VERSION=\"1.7.1\" # any version ≥ 0.7.0\n",
        "JULIA_PACKAGES=\"IJulia BenchmarkTools PyCall PyPlot\"\n",
        "JULIA_PACKAGES_IF_GPU=\"CUDA\"\n",
        "JULIA_NUM_THREADS=4\n",
        "#---------------------------------------------------#\n",
        "\n",
        "if [ -n \"$COLAB_GPU\" ] && [ -z `which julia` ]; then\n",
        "  # Install Julia\n",
        "  JULIA_VER=`cut -d '.' -f -2 <<< \"$JULIA_VERSION\"`\n",
        "  echo \"Installing Julia $JULIA_VERSION on the current Colab Runtime...\"\n",
        "  BASE_URL=\"https://julialang-s3.julialang.org/bin/linux/x64\"\n",
        "  URL=\"$BASE_URL/$JULIA_VER/julia-$JULIA_VERSION-linux-x86_64.tar.gz\"\n",
        "  wget -nv $URL -O /tmp/julia.tar.gz # -nv means \"not verbose\"\n",
        "  tar -x -f /tmp/julia.tar.gz -C /usr/local --strip-components 1\n",
        "  rm /tmp/julia.tar.gz\n",
        "\n",
        "  # Install Packages\n",
        "  if [ \"$COLAB_GPU\" = \"1\" ]; then\n",
        "      JULIA_PACKAGES=\"$JULIA_PACKAGES $JULIA_PACKAGES_IF_GPU\"\n",
        "  fi\n",
        "  for PKG in `echo $JULIA_PACKAGES`; do\n",
        "    echo \"Installing Julia package $PKG...\"\n",
        "    julia -e 'using Pkg; pkg\"add '$PKG'; precompile;\"' &> /dev/null\n",
        "  done\n",
        "\n",
        "  # Install kernel and rename it to \"julia\"\n",
        "  echo \"Installing IJulia kernel...\"\n",
        "  julia -e 'using IJulia; IJulia.installkernel(\"julia\", env=Dict(\n",
        "      \"JULIA_NUM_THREADS\"=>\"'\"$JULIA_NUM_THREADS\"'\"))'\n",
        "  KERNEL_DIR=`julia -e \"using IJulia; print(IJulia.kerneldir())\"`\n",
        "  KERNEL_NAME=`ls -d \"$KERNEL_DIR\"/julia*`\n",
        "  mv -f $KERNEL_NAME \"$KERNEL_DIR\"/julia  \n",
        "\n",
        "  echo ''\n",
        "  echo \"Successfully installed `julia -v`!\"\n",
        "  echo \"Please reload this page (press Ctrl+R, ⌘+R, or the F5 key) then\"\n",
        "  echo \"jump to the 'Checking the Installation' section.\"\n",
        "fi"
      ]
    },
    {
      "cell_type": "markdown",
      "metadata": {
        "id": "2ZvetMlVYKXY"
      },
      "source": [
        "## Running This Notebook Locally\n",
        "If you prefer to run this notebook on your machine instead of Google Colab:\n",
        "\n",
        "* Download this notebook (File > Download .ipynb)\n",
        "* Install [Julia](https://julialang.org/downloads/)\n",
        "* Run the following command in a terminal to install `IJulia` (the Jupyter kernel for Julia), and a few packages we will use:\n",
        "```bash\n",
        "julia -e 'using Pkg\n",
        "            pkg\"add IJulia; precompile;\"\n",
        "            pkg\"add BenchmarkTools; precompile;\"\n",
        "            pkg\"add PyCall; precompile;\"\n",
        "            pkg\"add PyPlot; precompile;\"'\n",
        "```\n",
        "\n",
        "* Next, go to the directory containing this notebook:\n",
        "\n",
        "    ```julia\n",
        "cd /path/to/notebook/directory\n",
        "```\n",
        "\n",
        "* Start Jupyter Notebook:\n",
        "\n",
        "    ```bash\n",
        "julia -e 'using IJulia; IJulia.notebook()'\n",
        "```\n",
        "\n",
        "    Or replace `notebook()` with `jupyterlab()` if you prefer JupyterLab.\n",
        "\n",
        "    If you do not already have [Jupyter](https://jupyter.org/install) installed, IJulia will propose to install it. If you agree, it will automatically install a private Miniconda (just for Julia), and install Jupyter and Python inside it.\n",
        "\n",
        "* Lastly, open this notebook and skip directly to the next section."
      ]
    },
    {
      "cell_type": "markdown",
      "metadata": {
        "id": "-OS3Ac017T1i"
      },
      "source": [
        "## Checking the Installation\n",
        "The `versioninfo()` function should print your Julia version and some other info about the system (if you ever ask for help or file an issue about Julia, you should always provide this information)."
      ]
    },
    {
      "cell_type": "code",
      "execution_count": null,
      "metadata": {
        "id": "EEzvvzCl1i0F",
        "colab": {
          "base_uri": "https://localhost:8080/"
        },
        "outputId": "421a0c8d-ceaf-4b74-d326-134c361d5866"
      },
      "outputs": [
        {
          "output_type": "stream",
          "name": "stdout",
          "text": [
            "Julia Version 1.7.1\n",
            "Commit ac5cc99908 (2021-12-22 19:35 UTC)\n",
            "Platform Info:\n",
            "  OS: Linux (x86_64-pc-linux-gnu)\n",
            "  CPU: Intel(R) Xeon(R) CPU @ 2.20GHz\n",
            "  WORD_SIZE: 64\n",
            "  LIBM: libopenlibm\n",
            "  LLVM: libLLVM-12.0.1 (ORCJIT, broadwell)\n",
            "Environment:\n",
            "  JULIA_NUM_THREADS = 4\n"
          ]
        }
      ],
      "source": [
        "versioninfo()"
      ]
    },
    {
      "cell_type": "code",
      "execution_count": null,
      "metadata": {
        "id": "-4FMkizktjB5",
        "colab": {
          "base_uri": "https://localhost:8080/",
          "height": 147
        },
        "outputId": "045b21e3-6a63-46b8-d2ff-d03df13f2e39"
      },
      "outputs": [
        {
          "output_type": "stream",
          "name": "stdout",
          "text": [
            "search: \u001b[0m\u001b[1mv\u001b[22m\u001b[0m\u001b[1me\u001b[22m\u001b[0m\u001b[1mr\u001b[22m\u001b[0m\u001b[1ms\u001b[22m\u001b[0m\u001b[1mi\u001b[22m\u001b[0m\u001b[1mo\u001b[22m\u001b[0m\u001b[1mn\u001b[22m\u001b[0m\u001b[1mi\u001b[22m\u001b[0m\u001b[1mn\u001b[22m\u001b[0m\u001b[1mf\u001b[22m\u001b[0m\u001b[1mo\u001b[22m\n",
            "\n"
          ]
        },
        {
          "output_type": "execute_result",
          "data": {
            "text/latex": "\\begin{verbatim}\nversioninfo(io::IO=stdout; verbose::Bool=false)\n\\end{verbatim}\nPrint information about the version of Julia in use. The output is controlled with boolean keyword arguments:\n\n\\begin{itemize}\n\\item \\texttt{verbose}: print all additional information\n\n\\end{itemize}\nSee also: \\href{@ref}{\\texttt{VERSION}}.\n\n",
            "text/markdown": "```\nversioninfo(io::IO=stdout; verbose::Bool=false)\n```\n\nPrint information about the version of Julia in use. The output is controlled with boolean keyword arguments:\n\n  * `verbose`: print all additional information\n\nSee also: [`VERSION`](@ref).\n",
            "text/plain": [
              "\u001b[36m  versioninfo(io::IO=stdout; verbose::Bool=false)\u001b[39m\n",
              "\n",
              "  Print information about the version of Julia in use. The output is\n",
              "  controlled with boolean keyword arguments:\n",
              "\n",
              "    •  \u001b[36mverbose\u001b[39m: print all additional information\n",
              "\n",
              "  See also: \u001b[36mVERSION\u001b[39m."
            ]
          },
          "metadata": {},
          "execution_count": 2
        }
      ],
      "source": [
        "?versioninfo"
      ]
    },
    {
      "cell_type": "code",
      "source": [
        "using Pkg\n",
        "Pkg.add(\"Distributions\")\n",
        "using Distributions"
      ],
      "metadata": {
        "id": "9QM8mWQnhrPi",
        "colab": {
          "base_uri": "https://localhost:8080/"
        },
        "outputId": "0a0976bb-23a9-4310-edae-ce238ff64124"
      },
      "execution_count": null,
      "outputs": [
        {
          "output_type": "stream",
          "name": "stderr",
          "text": [
            "\u001b[32m\u001b[1m    Updating\u001b[22m\u001b[39m registry at `~/.julia/registries/General.toml`\n",
            "\u001b[32m\u001b[1m   Resolving\u001b[22m\u001b[39m package versions...\n",
            "\u001b[32m\u001b[1m   Installed\u001b[22m\u001b[39m IrrationalConstants ─ v0.1.1\n",
            "\u001b[32m\u001b[1m   Installed\u001b[22m\u001b[39m Rmath ─────────────── v0.7.0\n",
            "\u001b[32m\u001b[1m   Installed\u001b[22m\u001b[39m PDMats ────────────── v0.11.5\n",
            "\u001b[32m\u001b[1m   Installed\u001b[22m\u001b[39m DataAPI ───────────── v1.9.0\n",
            "\u001b[32m\u001b[1m   Installed\u001b[22m\u001b[39m StatsFuns ─────────── v0.9.15\n",
            "\u001b[32m\u001b[1m   Installed\u001b[22m\u001b[39m OrderedCollections ── v1.4.1\n",
            "\u001b[32m\u001b[1m   Installed\u001b[22m\u001b[39m SpecialFunctions ──── v2.1.2\n",
            "\u001b[32m\u001b[1m   Installed\u001b[22m\u001b[39m ChainRulesCore ────── v1.12.0\n",
            "\u001b[32m\u001b[1m   Installed\u001b[22m\u001b[39m QuadGK ────────────── v2.4.2\n",
            "\u001b[32m\u001b[1m   Installed\u001b[22m\u001b[39m LogExpFunctions ───── v0.3.6\n",
            "\u001b[32m\u001b[1m   Installed\u001b[22m\u001b[39m Rmath_jll ─────────── v0.3.0+0\n",
            "\u001b[32m\u001b[1m   Installed\u001b[22m\u001b[39m OpenSpecFun_jll ───── v0.5.5+0\n",
            "\u001b[32m\u001b[1m   Installed\u001b[22m\u001b[39m Compat ────────────── v3.41.0\n",
            "\u001b[32m\u001b[1m   Installed\u001b[22m\u001b[39m StatsAPI ──────────── v1.2.1\n",
            "\u001b[32m\u001b[1m   Installed\u001b[22m\u001b[39m FillArrays ────────── v0.12.8\n",
            "\u001b[32m\u001b[1m   Installed\u001b[22m\u001b[39m DataStructures ────── v0.18.11\n",
            "\u001b[32m\u001b[1m   Installed\u001b[22m\u001b[39m InverseFunctions ──── v0.1.2\n",
            "\u001b[32m\u001b[1m   Installed\u001b[22m\u001b[39m Distributions ─────── v0.25.48\n",
            "\u001b[32m\u001b[1m   Installed\u001b[22m\u001b[39m SortingAlgorithms ─── v1.0.1\n",
            "\u001b[32m\u001b[1m   Installed\u001b[22m\u001b[39m Missings ──────────── v1.0.2\n",
            "\u001b[32m\u001b[1m   Installed\u001b[22m\u001b[39m ChangesOfVariables ── v0.1.2\n",
            "\u001b[32m\u001b[1m   Installed\u001b[22m\u001b[39m DensityInterface ──── v0.4.0\n",
            "\u001b[32m\u001b[1m   Installed\u001b[22m\u001b[39m StatsBase ─────────── v0.33.16\n",
            "\u001b[32m\u001b[1m   Installed\u001b[22m\u001b[39m DocStringExtensions ─ v0.8.6\n",
            "\u001b[32m\u001b[1m    Updating\u001b[22m\u001b[39m `~/.julia/environments/v1.7/Project.toml`\n",
            " \u001b[90m [31c24e10] \u001b[39m\u001b[92m+ Distributions v0.25.48\u001b[39m\n",
            "\u001b[32m\u001b[1m    Updating\u001b[22m\u001b[39m `~/.julia/environments/v1.7/Manifest.toml`\n",
            " \u001b[90m [d360d2e6] \u001b[39m\u001b[92m+ ChainRulesCore v1.12.0\u001b[39m\n",
            " \u001b[90m [9e997f8a] \u001b[39m\u001b[92m+ ChangesOfVariables v0.1.2\u001b[39m\n",
            " \u001b[90m [34da2185] \u001b[39m\u001b[92m+ Compat v3.41.0\u001b[39m\n",
            " \u001b[90m [9a962f9c] \u001b[39m\u001b[92m+ DataAPI v1.9.0\u001b[39m\n",
            " \u001b[90m [864edb3b] \u001b[39m\u001b[92m+ DataStructures v0.18.11\u001b[39m\n",
            " \u001b[90m [b429d917] \u001b[39m\u001b[92m+ DensityInterface v0.4.0\u001b[39m\n",
            " \u001b[90m [31c24e10] \u001b[39m\u001b[92m+ Distributions v0.25.48\u001b[39m\n",
            " \u001b[90m [ffbed154] \u001b[39m\u001b[92m+ DocStringExtensions v0.8.6\u001b[39m\n",
            " \u001b[90m [1a297f60] \u001b[39m\u001b[92m+ FillArrays v0.12.8\u001b[39m\n",
            " \u001b[90m [3587e190] \u001b[39m\u001b[92m+ InverseFunctions v0.1.2\u001b[39m\n",
            " \u001b[90m [92d709cd] \u001b[39m\u001b[92m+ IrrationalConstants v0.1.1\u001b[39m\n",
            " \u001b[90m [2ab3a3ac] \u001b[39m\u001b[92m+ LogExpFunctions v0.3.6\u001b[39m\n",
            " \u001b[90m [e1d29d7a] \u001b[39m\u001b[92m+ Missings v1.0.2\u001b[39m\n",
            " \u001b[90m [bac558e1] \u001b[39m\u001b[92m+ OrderedCollections v1.4.1\u001b[39m\n",
            " \u001b[90m [90014a1f] \u001b[39m\u001b[92m+ PDMats v0.11.5\u001b[39m\n",
            " \u001b[90m [1fd47b50] \u001b[39m\u001b[92m+ QuadGK v2.4.2\u001b[39m\n",
            " \u001b[90m [79098fc4] \u001b[39m\u001b[92m+ Rmath v0.7.0\u001b[39m\n",
            " \u001b[90m [a2af1166] \u001b[39m\u001b[92m+ SortingAlgorithms v1.0.1\u001b[39m\n",
            " \u001b[90m [276daf66] \u001b[39m\u001b[92m+ SpecialFunctions v2.1.2\u001b[39m\n",
            " \u001b[90m [82ae8749] \u001b[39m\u001b[92m+ StatsAPI v1.2.1\u001b[39m\n",
            " \u001b[90m [2913bbd2] \u001b[39m\u001b[92m+ StatsBase v0.33.16\u001b[39m\n",
            " \u001b[90m [4c63d2b9] \u001b[39m\u001b[92m+ StatsFuns v0.9.15\u001b[39m\n",
            " \u001b[90m [efe28fd5] \u001b[39m\u001b[92m+ OpenSpecFun_jll v0.5.5+0\u001b[39m\n",
            " \u001b[90m [f50d1b31] \u001b[39m\u001b[92m+ Rmath_jll v0.3.0+0\u001b[39m\n",
            " \u001b[90m [8bb1440f] \u001b[39m\u001b[92m+ DelimitedFiles\u001b[39m\n",
            " \u001b[90m [8ba89e20] \u001b[39m\u001b[92m+ Distributed\u001b[39m\n",
            " \u001b[90m [1a1011a3] \u001b[39m\u001b[92m+ SharedArrays\u001b[39m\n",
            " \u001b[90m [4607b0f0] \u001b[39m\u001b[92m+ SuiteSparse\u001b[39m\n",
            " \u001b[90m [05823500] \u001b[39m\u001b[92m+ OpenLibm_jll\u001b[39m\n",
            "\u001b[32m\u001b[1mPrecompiling\u001b[22m\u001b[39m project...\n",
            "\u001b[32m  ✓ \u001b[39m\u001b[90mOrderedCollections\u001b[39m\n",
            "\u001b[32m  ✓ \u001b[39m\u001b[90mCompat\u001b[39m\n",
            "\u001b[32m  ✓ \u001b[39m\u001b[90mOpenLibm_jll\u001b[39m\n",
            "\u001b[32m  ✓ \u001b[39m\u001b[90mPDMats\u001b[39m\n",
            "\u001b[32m  ✓ \u001b[39m\u001b[90mFillArrays\u001b[39m\n",
            "\u001b[32m  ✓ \u001b[39m\u001b[90mInverseFunctions\u001b[39m\n",
            "\u001b[32m  ✓ \u001b[39m\u001b[90mDocStringExtensions\u001b[39m\n",
            "\u001b[32m  ✓ \u001b[39m\u001b[90mDataAPI\u001b[39m\n",
            "\u001b[32m  ✓ \u001b[39m\u001b[90mIrrationalConstants\u001b[39m\n",
            "\u001b[32m  ✓ \u001b[39m\u001b[90mStatsAPI\u001b[39m\n",
            "\u001b[32m  ✓ \u001b[39m\u001b[90mRmath_jll\u001b[39m\n",
            "\u001b[32m  ✓ \u001b[39m\u001b[90mOpenSpecFun_jll\u001b[39m\n",
            "\u001b[32m  ✓ \u001b[39m\u001b[90mDensityInterface\u001b[39m\n",
            "\u001b[32m  ✓ \u001b[39m\u001b[90mMissings\u001b[39m\n",
            "\u001b[32m  ✓ \u001b[39m\u001b[90mChainRulesCore\u001b[39m\n",
            "\u001b[32m  ✓ \u001b[39m\u001b[90mDataStructures\u001b[39m\n",
            "\u001b[32m  ✓ \u001b[39m\u001b[90mRmath\u001b[39m\n",
            "\u001b[32m  ✓ \u001b[39m\u001b[90mChangesOfVariables\u001b[39m\n",
            "\u001b[32m  ✓ \u001b[39m\u001b[90mSortingAlgorithms\u001b[39m\n",
            "\u001b[32m  ✓ \u001b[39m\u001b[90mQuadGK\u001b[39m\n",
            "\u001b[32m  ✓ \u001b[39m\u001b[90mLogExpFunctions\u001b[39m\n",
            "\u001b[32m  ✓ \u001b[39m\u001b[90mStatsBase\u001b[39m\n",
            "\u001b[32m  ✓ \u001b[39m\u001b[90mSpecialFunctions\u001b[39m\n",
            "\u001b[32m  ✓ \u001b[39m\u001b[90mStatsFuns\u001b[39m\n",
            "\u001b[32m  ✓ \u001b[39mDistributions\n",
            "  25 dependencies successfully precompiled in 32 seconds (27 already precompiled)\n"
          ]
        }
      ]
    },
    {
      "cell_type": "code",
      "source": [
        "using Pkg\n",
        "Pkg.add(\"Graphs\")\n",
        "using Graphs"
      ],
      "metadata": {
        "id": "YE1WRb0Wibo_",
        "colab": {
          "base_uri": "https://localhost:8080/"
        },
        "outputId": "0d1339a1-fff1-474e-87b1-c4ba062c72af"
      },
      "execution_count": null,
      "outputs": [
        {
          "output_type": "stream",
          "name": "stderr",
          "text": [
            "\u001b[32m\u001b[1m   Resolving\u001b[22m\u001b[39m package versions...\n",
            "\u001b[32m\u001b[1m   Installed\u001b[22m\u001b[39m ArnoldiMethod ─ v0.2.0\n",
            "\u001b[32m\u001b[1m   Installed\u001b[22m\u001b[39m SimpleTraits ── v0.9.4\n",
            "\u001b[32m\u001b[1m   Installed\u001b[22m\u001b[39m Inflate ─────── v0.1.2\n",
            "\u001b[32m\u001b[1m   Installed\u001b[22m\u001b[39m StaticArrays ── v1.3.5\n",
            "\u001b[32m\u001b[1m   Installed\u001b[22m\u001b[39m Graphs ──────── v1.6.0\n",
            "\u001b[32m\u001b[1m    Updating\u001b[22m\u001b[39m `~/.julia/environments/v1.7/Project.toml`\n",
            " \u001b[90m [86223c79] \u001b[39m\u001b[92m+ Graphs v1.6.0\u001b[39m\n",
            "\u001b[32m\u001b[1m    Updating\u001b[22m\u001b[39m `~/.julia/environments/v1.7/Manifest.toml`\n",
            " \u001b[90m [ec485272] \u001b[39m\u001b[92m+ ArnoldiMethod v0.2.0\u001b[39m\n",
            " \u001b[90m [86223c79] \u001b[39m\u001b[92m+ Graphs v1.6.0\u001b[39m\n",
            " \u001b[90m [d25df0c9] \u001b[39m\u001b[92m+ Inflate v0.1.2\u001b[39m\n",
            " \u001b[90m [699a6c99] \u001b[39m\u001b[92m+ SimpleTraits v0.9.4\u001b[39m\n",
            " \u001b[90m [90137ffa] \u001b[39m\u001b[92m+ StaticArrays v1.3.5\u001b[39m\n",
            "\u001b[32m\u001b[1mPrecompiling\u001b[22m\u001b[39m project...\n",
            "\u001b[32m  ✓ \u001b[39m\u001b[90mInflate\u001b[39m\n",
            "\u001b[32m  ✓ \u001b[39m\u001b[90mSimpleTraits\u001b[39m\n",
            "\u001b[32m  ✓ \u001b[39m\u001b[90mStaticArrays\u001b[39m\n",
            "\u001b[32m  ✓ \u001b[39m\u001b[90mArnoldiMethod\u001b[39m\n",
            "\u001b[32m  ✓ \u001b[39mGraphs\n",
            "  5 dependencies successfully precompiled in 17 seconds (52 already precompiled)\n"
          ]
        }
      ]
    },
    {
      "cell_type": "code",
      "source": [
        "Base.Dict{Symbol,V}(a::NamedTuple) where V = \n",
        "  Dict{Symbol,V}(n=>v for (n,v) in zip(keys(a), values(a)))\n",
        "Base.convert(::Type{Dict{Symbol,V}}, a::NamedTuple) where V =\n",
        "    Dict{Symbol,V}(a)\n",
        "Base.isequal(a::Dict{Symbol,<:Any}, nt::NamedTuple) =\n",
        "  length(a) == length(nt) &&\n",
        "  all(a[n] == v for (n,v) in zip(keys(nt), values(nt)))"
      ],
      "metadata": {
        "id": "DnIWW8u1in1G"
      },
      "execution_count": null,
      "outputs": []
    },
    {
      "cell_type": "code",
      "source": [
        "struct Variable\n",
        "  name::Symbol\n",
        "  r::Int # number of possible values \n",
        "end\n",
        "\n",
        "const Assignment = Dict{Symbol,Int}\n",
        "const FactorTable = Dict{Assignment,Float64}\n",
        "struct Factor\n",
        "  vars::Vector{Variable}\n",
        "  table::FactorTable\n",
        "end \n",
        "\n",
        "variablenames(φ::Factor) = [var.name for var in φ.vars]\n",
        "\n",
        "select(a::Assignment, varnames::Vector{Symbol}) =\n",
        "  Assignment(n=>a[n] for n in varnames)\n",
        "\n",
        "function assignments(vars::AbstractVector{Variable})\n",
        "  names = [var.name for var in vars]\n",
        "  return vec([Assignment(n=>v for (n,v) in zip(names, values))\n",
        "              for values in product((1:v.r for v in vars)...)])\n",
        "end\n",
        "\n",
        "\n",
        "function normalize!(φ::Factor)\n",
        "  z = sum(p for (a,p) in φ.table)\n",
        "  for (a,p) in φ.table\n",
        "    φ.table[a] = p/z\n",
        "    end\n",
        "  return φ\n",
        "end"
      ],
      "metadata": {
        "id": "Dr-I33LOjd2J",
        "colab": {
          "base_uri": "https://localhost:8080/"
        },
        "outputId": "8c857236-a69b-4c96-9dd4-a6bf400fe215"
      },
      "execution_count": null,
      "outputs": [
        {
          "output_type": "execute_result",
          "data": {
            "text/plain": [
              "normalize! (generic function with 1 method)"
            ]
          },
          "metadata": {},
          "execution_count": 6
        }
      ]
    },
    {
      "cell_type": "code",
      "source": [
        "struct BayesianNetwork \n",
        "  vars::Vector{Variable}\n",
        "  factors::Vector{Factor}\n",
        "  graph::SimpleDiGraph{Int64}\n",
        "end"
      ],
      "metadata": {
        "id": "TZPbMmIAjF5x"
      },
      "execution_count": null,
      "outputs": []
    },
    {
      "cell_type": "code",
      "source": [
        "# Algorithm 2.3\n",
        "function probability(bn::BayesianNetwork, assignment)\n",
        "  subassignment(φ) = select(assignment, variablenames(φ))\n",
        "  probability(φ) = get(φ.table, subassignment(φ), 0.0)\n",
        "  return prod(probability(φ) for φ in bn.factors)\n",
        "end"
      ],
      "metadata": {
        "id": "-dievgpLmJNl",
        "colab": {
          "base_uri": "https://localhost:8080/"
        },
        "outputId": "99bd4e7f-649e-4e57-b1f5-3c1bc2ecf075"
      },
      "execution_count": null,
      "outputs": [
        {
          "output_type": "execute_result",
          "data": {
            "text/plain": [
              "probability (generic function with 1 method)"
            ]
          },
          "metadata": {},
          "execution_count": 8
        }
      ]
    },
    {
      "cell_type": "code",
      "source": [
        "# Example 2.3\n",
        "X = Variable(:x, 2)\n",
        "Y = Variable(:y, 2)\n",
        "Z = Variable(:z, 2)\n",
        "φ = Factor([X, Y, Z], FactorTable(\n",
        "  (x=1, y=1, z=1) => 0.08, (x=1, y=1, z=2) => 0.31,\n",
        "  (x=1, y=2, z=1) => 0.09, (x=1, y=2, z=2) => 0.37,\n",
        "  (x=2, y=1, z=1) => 0.01, (x=2, y=1, z=2) => 0.05,\n",
        "  (x=2, y=2, z=1) => 0.02, (x=2, y=2, z=2) => 0.07,\n",
        ")) "
      ],
      "metadata": {
        "id": "a-Ax7hbNlX64",
        "colab": {
          "base_uri": "https://localhost:8080/"
        },
        "outputId": "d13e6674-b7f4-4f04-a19a-773667abbf4f"
      },
      "execution_count": null,
      "outputs": [
        {
          "output_type": "execute_result",
          "data": {
            "text/plain": [
              "Factor(Variable[Variable(:x, 2), Variable(:y, 2), Variable(:z, 2)], Dict(Dict(:y => 2, :z => 2, :x => 1) => 0.37, Dict(:y => 1, :z => 2, :x => 1) => 0.31, Dict(:y => 2, :z => 1, :x => 2) => 0.02, Dict(:y => 1, :z => 1, :x => 1) => 0.08, Dict(:y => 1, :z => 2, :x => 2) => 0.05, Dict(:y => 2, :z => 2, :x => 2) => 0.07, Dict(:y => 2, :z => 1, :x => 1) => 0.09, Dict(:y => 1, :z => 1, :x => 2) => 0.01))"
            ]
          },
          "metadata": {},
          "execution_count": 9
        }
      ]
    },
    {
      "cell_type": "code",
      "source": [
        "# Example 2.5\n",
        "B = Variable(:b, 2); S = Variable(:s, 2)\n",
        "E = Variable(:e, 2)\n",
        "D = Variable(:d, 2); C = Variable(:c, 2)\n",
        "vars = [B, S, E, D, C]\n",
        "factors = [\n",
        "  Factor([B], FactorTable((b=1,) => 0.99, (b=2,) => 0.01)),\n",
        "  Factor([S], FactorTable((s=1,) => 0.98, (s=2,) => 0.02)),\n",
        "  Factor([E,B,S], FactorTable(\n",
        "    (e=1,b=1,s=1) => 0.90, (e=1,b=1,s=2) => 0.04,\n",
        "    (e=1,b=2,s=1) => 0.05, (e=1,b=2,s=2) => 0.01,\n",
        "    (e=2,b=1,s=1) => 0.10, (e=2,b=1,s=2) => 0.96, \n",
        "    (e=2,b=2,s=1) => 0.95, (e=2,b=2,s=2) => 0.99)),\n",
        "  Factor([D, E], FactorTable(\n",
        "    (d=1,e=1) => 0.96, (d=1,e=2) => 0.03,\n",
        "    (d=2,e=1) => 0.04, (d=2,e=2) => 0.97)),\n",
        "  Factor([C, E], FactorTable(\n",
        "    (c=1,e=1) => 0.98, (c=1,e=2) => 0.01, (c=2,e=1) => 0.02, (c=2,e=2) => 0.99))\n",
        "]\n",
        "graph = SimpleDiGraph(5)\n",
        "add_edge!(graph, 1, 3); add_edge!(graph, 2, 3)\n",
        "add_edge!(graph, 3, 4); add_edge!(graph, 3, 5) \n",
        "bn = BayesianNetwork(vars, factors, graph)"
      ],
      "metadata": {
        "id": "ukLrC5-AgnGG",
        "colab": {
          "base_uri": "https://localhost:8080/"
        },
        "outputId": "6ed8353f-51af-4a3d-c39a-a4376039af00"
      },
      "execution_count": null,
      "outputs": [
        {
          "output_type": "execute_result",
          "data": {
            "text/plain": [
              "BayesianNetwork(Variable[Variable(:b, 2), Variable(:s, 2), Variable(:e, 2), Variable(:d, 2), Variable(:c, 2)], Factor[Factor(Variable[Variable(:b, 2)], Dict(Dict(:b => 1) => 0.99, Dict(:b => 2) => 0.01)), Factor(Variable[Variable(:s, 2)], Dict(Dict(:s => 2) => 0.02, Dict(:s => 1) => 0.98)), Factor(Variable[Variable(:e, 2), Variable(:b, 2), Variable(:s, 2)], Dict(Dict(:b => 1, :s => 1, :e => 1) => 0.9, Dict(:b => 1, :s => 1, :e => 2) => 0.1, Dict(:b => 2, :s => 2, :e => 2) => 0.99, Dict(:b => 1, :s => 2, :e => 2) => 0.96, Dict(:b => 2, :s => 2, :e => 1) => 0.01, Dict(:b => 1, :s => 2, :e => 1) => 0.04, Dict(:b => 2, :s => 1, :e => 1) => 0.05, Dict(:b => 2, :s => 1, :e => 2) => 0.95)), Factor(Variable[Variable(:d, 2), Variable(:e, 2)], Dict(Dict(:d => 2, :e => 1) => 0.04, Dict(:d => 2, :e => 2) => 0.97, Dict(:d => 1, :e => 2) => 0.03, Dict(:d => 1, :e => 1) => 0.96)), Factor(Variable[Variable(:c, 2), Variable(:e, 2)], Dict(Dict(:e => 2, :c => 1) => 0.01, Dict(:e => 1, :c => 1) => 0.98, Dict(:e => 1, :c => 2) => 0.02, Dict(:e => 2, :c => 2) => 0.99))], {5, 4} directed simple Int64 graph)"
            ]
          },
          "metadata": {},
          "execution_count": 10
        }
      ]
    },
    {
      "cell_type": "code",
      "source": [
        "# Algorithm 3.1 : implementation of the factor product\n",
        "function Base.:*(φ::Factor, ψ::Factor)\n",
        "  φnames = variablenames(φ)\n",
        "  ψnames = variablenames(ψ)\n",
        "  ψonly = setdiff(ψ.vars, φ.vars)\n",
        "  table = FactorTable()\n",
        "  for (φa,φp) in φ.table\n",
        "    for a in assignments(ψonly)\n",
        "      a = merge(φa, a)\n",
        "      ψa = select(a, ψnames)\n",
        "      table[a] = φp * get(ψ.table, ψa, 0.0)\n",
        "    end\n",
        "  end\n",
        "  vars = vcat(φ.vars, ψonly)\n",
        "  return Factor(vars, table)\n",
        "end"
      ],
      "metadata": {
        "id": "6LKwKGjUmlIu"
      },
      "execution_count": null,
      "outputs": []
    },
    {
      "cell_type": "code",
      "source": [
        "# Algorithm 3.2\n",
        "\n",
        "function marginalize(φ::Factor, name)\n",
        "  table = FactorTable()\n",
        "  for (a, p) in φ.table\n",
        "    a′ = delete!(copy(a), name)\n",
        "    table[a′] = get(table, a′, 0.0) + p\n",
        "  end \n",
        "  vars = filter(v -> v.name != name, φ.vars)\n",
        "  return Factor(vars, table)\n",
        "end "
      ],
      "metadata": {
        "id": "GjXnO3dBnZYc",
        "colab": {
          "base_uri": "https://localhost:8080/"
        },
        "outputId": "7f8e212a-b6f7-4af8-b1fb-2810451ff7cf"
      },
      "execution_count": null,
      "outputs": [
        {
          "output_type": "execute_result",
          "data": {
            "text/plain": [
              "marginalize (generic function with 1 method)"
            ]
          },
          "metadata": {},
          "execution_count": 12
        }
      ]
    },
    {
      "cell_type": "code",
      "source": [
        "# Algorithm 3.3\n",
        "\n",
        "in_scope(name, φ) = any(name == v.name for v in φ.vars)\n",
        "\n",
        "function condition(φ::Factor, name, value)\n",
        "  if !in_scope(name, φ)\n",
        "    return φ   \n",
        "  end\n",
        "  table = FactorTable()\n",
        "  for (a, p) in φ.table\n",
        "    if a[name] == value\n",
        "      table[delete!(copy(a), name)] = p\n",
        "    end\n",
        "  end\n",
        "  vars = filter(v -> v.name != name, φ.vars)\n",
        "  return Factor(vars, table)\n",
        "end\n",
        "\n",
        "function condition(φ::Factor, evidence)\n",
        "  for (name, value) in pairs(evidence)\n",
        "    φ = condition(φ, name, value)\n",
        "  end\n",
        "  return φ\n",
        "end"
      ],
      "metadata": {
        "id": "Olwme-Ranvh8",
        "colab": {
          "base_uri": "https://localhost:8080/"
        },
        "outputId": "57ad2a29-6fbe-4df3-b796-0e37f0d57e46"
      },
      "execution_count": null,
      "outputs": [
        {
          "output_type": "execute_result",
          "data": {
            "text/plain": [
              "condition (generic function with 2 methods)"
            ]
          },
          "metadata": {},
          "execution_count": 13
        }
      ]
    },
    {
      "cell_type": "code",
      "source": [
        "using LinearAlgebra"
      ],
      "metadata": {
        "id": "tJkbHr3yxI08",
        "colab": {
          "base_uri": "https://localhost:8080/"
        },
        "outputId": "0542f80a-0514-4ecf-f820-e8a7d99a6735"
      },
      "execution_count": null,
      "outputs": [
        {
          "output_type": "stream",
          "name": "stderr",
          "text": [
            "WARNING: using LinearAlgebra.normalize! in module Main conflicts with an existing identifier.\n"
          ]
        }
      ]
    },
    {
      "cell_type": "code",
      "source": [
        "function sub2ind(siz, x)\n",
        "  k = vcat(1, cumprod(siz[1:end-1]))\n",
        "  return dot(k, x .- 1) + 1\n",
        "end\n",
        "\n",
        "function statistics(vars, G, D::Matrix{Int})\n",
        "  n = size(D, 1)\n",
        "  r = [vars[i].r for i in 1:n]\n",
        "  q = [prod([r[j] for j in inneighbors(G,i)]) for i in 1:n]\n",
        "  M = [zeros(q[i], r[i]) for i in 1:n]\n",
        "  for o in eachcol(D)\n",
        "    for i in 1:n\n",
        "      k = o[i]\n",
        "      parents = inneighbors(G,i)\n",
        "      j=1\n",
        "      if !isempty(parents)\n",
        "        j = sub2ind(r[parents], o[parents])\n",
        "      end\n",
        "      M[i][j,k] += 1.0\n",
        "    end\n",
        "  end\n",
        "  return M\n",
        "end"
      ],
      "metadata": {
        "id": "Gtd34AigfvWX",
        "colab": {
          "base_uri": "https://localhost:8080/"
        },
        "outputId": "ab51a9f1-76da-4e75-a112-35ed19b9162a"
      },
      "execution_count": null,
      "outputs": [
        {
          "output_type": "execute_result",
          "data": {
            "text/plain": [
              "statistics (generic function with 1 method)"
            ]
          },
          "metadata": {},
          "execution_count": 15
        }
      ]
    },
    {
      "cell_type": "markdown",
      "source": [
        "# Example 4.1"
      ],
      "metadata": {
        "id": "6cAhVw68xzZL"
      }
    },
    {
      "cell_type": "code",
      "source": [
        "G = SimpleDiGraph(3)\n",
        "add_edge!(G, 1, 2)\n",
        "add_edge!(G, 3, 2)\n",
        "vars = [Variable(:A,2), Variable(:B,2), Variable(:C,2)]\n",
        "D = [1 2 2 1; 1 2 2 1; 2 2 2 2]\n",
        "M = statistics(vars, G, D)"
      ],
      "metadata": {
        "id": "cHNGxpmypFI-",
        "colab": {
          "base_uri": "https://localhost:8080/"
        },
        "outputId": "bf434fa7-ff0b-4a1d-b510-378adc255099"
      },
      "execution_count": null,
      "outputs": [
        {
          "output_type": "execute_result",
          "data": {
            "text/plain": [
              "3-element Vector{Matrix{Float64}}:\n",
              " [2.0 2.0]\n",
              " [0.0 0.0; 0.0 0.0; 2.0 0.0; 0.0 2.0]\n",
              " [0.0 4.0]"
            ]
          },
          "metadata": {},
          "execution_count": 16
        }
      ]
    },
    {
      "cell_type": "code",
      "source": [
        "θ = [mapslices(x->normalize(x,1), Mi, dims=2) for Mi in M]"
      ],
      "metadata": {
        "id": "UcPPbyxZxqso",
        "colab": {
          "base_uri": "https://localhost:8080/"
        },
        "outputId": "9aaaef88-4213-4ec0-9e60-03cdbac440e0"
      },
      "execution_count": null,
      "outputs": [
        {
          "output_type": "execute_result",
          "data": {
            "text/plain": [
              "3-element Vector{Matrix{Float64}}:\n",
              " [0.5 0.5]\n",
              " [NaN NaN; NaN NaN; 1.0 0.0; 0.0 1.0]\n",
              " [0.0 1.0]"
            ]
          },
          "metadata": {},
          "execution_count": 17
        }
      ]
    },
    {
      "cell_type": "markdown",
      "source": [
        "# Algorithm 4.2"
      ],
      "metadata": {
        "id": "4lmNIlM_x_uR"
      }
    },
    {
      "cell_type": "code",
      "source": [
        "function prior(vars, G)\n",
        "  n = length(vars)\n",
        "  r = [vars[i].r for i in 1:n]\n",
        "  q = [prod([r[j] for j in inneighbors(G,i)]) for i in 1:n]\n",
        "  return [ones(q[i], r[i]) for i in 1:n]\n",
        "end"
      ],
      "metadata": {
        "id": "FY2uXwETxt8V",
        "colab": {
          "base_uri": "https://localhost:8080/"
        },
        "outputId": "487d054a-fb82-41ed-b5e2-2dcd4a21abdf"
      },
      "execution_count": null,
      "outputs": [
        {
          "output_type": "execute_result",
          "data": {
            "text/plain": [
              "prior (generic function with 1 method)"
            ]
          },
          "metadata": {},
          "execution_count": 18
        }
      ]
    },
    {
      "cell_type": "code",
      "source": [
        "α = prior(vars, G)"
      ],
      "metadata": {
        "id": "MD-8ev3tyLHY",
        "colab": {
          "base_uri": "https://localhost:8080/"
        },
        "outputId": "ce7bedd4-2d1a-437b-de2b-b7ebdaf245b0"
      },
      "execution_count": null,
      "outputs": [
        {
          "output_type": "execute_result",
          "data": {
            "text/plain": [
              "3-element Vector{Matrix{Float64}}:\n",
              " [1.0 1.0]\n",
              " [1.0 1.0; 1.0 1.0; 1.0 1.0; 1.0 1.0]\n",
              " [1.0 1.0]"
            ]
          },
          "metadata": {},
          "execution_count": 19
        }
      ]
    },
    {
      "cell_type": "code",
      "source": [
        "M + α"
      ],
      "metadata": {
        "id": "KJ0X2FkHyLvc",
        "colab": {
          "base_uri": "https://localhost:8080/"
        },
        "outputId": "08a788f3-0a64-43ad-c92f-7714577afe41"
      },
      "execution_count": null,
      "outputs": [
        {
          "output_type": "execute_result",
          "data": {
            "text/plain": [
              "3-element Vector{Matrix{Float64}}:\n",
              " [3.0 3.0]\n",
              " [1.0 1.0; 1.0 1.0; 3.0 1.0; 1.0 3.0]\n",
              " [1.0 5.0]"
            ]
          },
          "metadata": {},
          "execution_count": 20
        }
      ]
    },
    {
      "cell_type": "code",
      "source": [
        "θ = [mapslices(x->normalize(x,1), Mi, dims=2) for Mi in M + α]"
      ],
      "metadata": {
        "id": "GQ2Q_sG6pZJ8",
        "colab": {
          "base_uri": "https://localhost:8080/"
        },
        "outputId": "ffd93fb4-a0e7-4383-df94-a4fef75fb440"
      },
      "execution_count": null,
      "outputs": [
        {
          "output_type": "execute_result",
          "data": {
            "text/plain": [
              "3-element Vector{Matrix{Float64}}:\n",
              " [0.5 0.5]\n",
              " [0.5 0.5; 0.5 0.5; 0.75 0.25; 0.25 0.75]\n",
              " [0.16666666666666666 0.8333333333333333]"
            ]
          },
          "metadata": {},
          "execution_count": 21
        }
      ]
    },
    {
      "cell_type": "markdown",
      "source": [
        "## 4.3 Nonparameteric Learning"
      ],
      "metadata": {
        "id": "Tcb8r_B_yZUX"
      }
    },
    {
      "cell_type": "code",
      "source": [
        "# Algorithm 4.3\n",
        "\n",
        "gaussian_kernel(b) = x->pdf(Normal(0,b), x)\n",
        "\n",
        "function kernel_density_estimate(φ, O)\n",
        "  return x -> sum([φ(x - o) for o in O])/length(O)\n",
        "end"
      ],
      "metadata": {
        "id": "PEPB8nKRyPGT",
        "colab": {
          "base_uri": "https://localhost:8080/"
        },
        "outputId": "fa5780ac-de71-4c97-fd93-c00be3f87e16"
      },
      "execution_count": null,
      "outputs": [
        {
          "output_type": "execute_result",
          "data": {
            "text/plain": [
              "kernel_density_estimate (generic function with 1 method)"
            ]
          },
          "metadata": {},
          "execution_count": 22
        }
      ]
    },
    {
      "cell_type": "code",
      "source": [
        ""
      ],
      "metadata": {
        "id": "c6yhmvYxyYna"
      },
      "execution_count": null,
      "outputs": []
    },
    {
      "cell_type": "markdown",
      "source": [
        "### 4.4.2 Expectation-Maximization"
      ],
      "metadata": {
        "id": "osa1uN6mzE2S"
      }
    },
    {
      "cell_type": "code",
      "source": [
        ""
      ],
      "metadata": {
        "id": "xPU9MYhhzLxj"
      },
      "execution_count": null,
      "outputs": []
    }
  ],
  "metadata": {
    "colab": {
      "collapsed_sections": [],
      "name": "Parameter_learning.ipynb",
      "provenance": []
    },
    "kernelspec": {
      "display_name": "Julia",
      "language": "julia",
      "name": "julia"
    },
    "language_info": {
      "file_extension": ".jl",
      "mimetype": "application/julia",
      "name": "julia"
    }
  },
  "nbformat": 4,
  "nbformat_minor": 0
}